{
  "nbformat": 4,
  "nbformat_minor": 0,
  "metadata": {
    "colab": {
      "provenance": [],
      "collapsed_sections": [
        "b0Iw1TDbBVjj"
      ]
    },
    "kernelspec": {
      "name": "python3",
      "display_name": "Python 3"
    },
    "language_info": {
      "name": "python"
    }
  },
  "cells": [
    {
      "cell_type": "code",
      "execution_count": null,
      "metadata": {
        "colab": {
          "base_uri": "https://localhost:8080/"
        },
        "id": "2MkTQb9HewGy",
        "outputId": "05a8d980-9454-496e-e62d-9274814eae5a"
      },
      "outputs": [
        {
          "output_type": "stream",
          "name": "stdout",
          "text": [
            "Mounted at /content/drive/\n"
          ]
        }
      ],
      "source": [
        "from google.colab import drive\n",
        "drive.mount('/content/drive/')"
      ]
    },
    {
      "cell_type": "code",
      "source": [
        "import numpy as np\n",
        "import pandas as pd\n",
        "import matplotlib.pyplot as plt\n",
        "from datetime import datetime, timedelta\n",
        "from scipy.ndimage.filters import gaussian_filter1d\n",
        "\n",
        "#model\n",
        "from sklearn.cluster import AgglomerativeClustering\n",
        "\n",
        "#visualization\n",
        "from scipy.cluster.hierarchy import dendrogram\n",
        "# packages for cluster determination \n",
        "from sklearn.metrics import silhouette_samples, silhouette_score"
      ],
      "metadata": {
        "id": "JNciTy-6e0f7"
      },
      "execution_count": null,
      "outputs": []
    },
    {
      "cell_type": "code",
      "source": [
        "def plot_dendrogram(model, **kwargs):\n",
        "    # Create linkage matrix and then plot the dendrogram\n",
        "\n",
        "    # create the counts of samples under each node\n",
        "    counts = np.zeros(model.children_.shape[0])\n",
        "    n_samples = len(model.labels_)\n",
        "    for i, merge in enumerate(model.children_):\n",
        "        current_count = 0\n",
        "        for child_idx in merge:\n",
        "            if child_idx < n_samples:\n",
        "                current_count += 1  # leaf node\n",
        "            else:\n",
        "                current_count += counts[child_idx - n_samples]\n",
        "        counts[i] = current_count\n",
        "\n",
        "    linkage_matrix = np.column_stack([model.children_, model.distances_,\n",
        "                                      counts]).astype(float)\n",
        "\n",
        "    # Plot the corresponding dendrogram\n",
        "    dendrogram(linkage_matrix, **kwargs)\n"
      ],
      "metadata": {
        "id": "devRxAvtikSp"
      },
      "execution_count": null,
      "outputs": []
    },
    {
      "cell_type": "markdown",
      "source": [
        "# 1. Clustering avg. Baseline consumption"
      ],
      "metadata": {
        "id": "QDAd7c9M4QEI"
      }
    },
    {
      "cell_type": "code",
      "source": [
        "# load consumption data\n",
        "consumption = pd.read_pickle('/content/drive/MyDrive/Stanford-TUBerlin/CodePaper/Consumption_Matrices/{}_accounts_actual_usage'.format('MB'))\n",
        "\n",
        "# compute avg. consumption for baseline \n",
        "time_base = pd.date_range(start='1/1/2002',  end='11/1/2007', freq='2MS')\n",
        "consumption_base = consumption[time_base]\n",
        "\n",
        "consumption_avg = pd.DataFrame(index=consumption.index)\n",
        "consumption_avg['avg_consumption'] = consumption_base.mean(axis=1)"
      ],
      "metadata": {
        "id": "bFmZqCxI4X7w"
      },
      "execution_count": null,
      "outputs": []
    },
    {
      "cell_type": "code",
      "source": [
        "model = AgglomerativeClustering( n_clusters=4, linkage='ward')\n",
        "model = model.fit(consumption_avg)\n",
        "\n",
        "clusters = pd.DataFrame(index=consumption.index)\n",
        "clusters['avg_consump'] = model.labels_\n",
        "clusters['pattern']=  np.nan"
      ],
      "metadata": {
        "id": "qTJqmF5--7wZ"
      },
      "execution_count": null,
      "outputs": []
    },
    {
      "cell_type": "code",
      "source": [
        "consumption_avg['cluster'] = clusters['avg_consump']"
      ],
      "metadata": {
        "id": "C0zKUXIF_5yR"
      },
      "execution_count": null,
      "outputs": []
    },
    {
      "cell_type": "code",
      "source": [
        "consumption_avg.groupby('cluster').mean()"
      ],
      "metadata": {
        "colab": {
          "base_uri": "https://localhost:8080/",
          "height": 206
        },
        "id": "LEf9queVAGVr",
        "outputId": "187f81fe-8ce0-4aa4-d7ed-89fcb5f6903c"
      },
      "execution_count": null,
      "outputs": [
        {
          "output_type": "execute_result",
          "data": {
            "text/plain": [
              "         avg_consumption\n",
              "cluster                 \n",
              "0           11838.238390\n",
              "1             773.034606\n",
              "2            2584.409790\n",
              "3            6772.003784"
            ],
            "text/html": [
              "\n",
              "  <div id=\"df-3b0fc34e-e84f-4a6c-9031-c0654cfd6b8d\">\n",
              "    <div class=\"colab-df-container\">\n",
              "      <div>\n",
              "<style scoped>\n",
              "    .dataframe tbody tr th:only-of-type {\n",
              "        vertical-align: middle;\n",
              "    }\n",
              "\n",
              "    .dataframe tbody tr th {\n",
              "        vertical-align: top;\n",
              "    }\n",
              "\n",
              "    .dataframe thead th {\n",
              "        text-align: right;\n",
              "    }\n",
              "</style>\n",
              "<table border=\"1\" class=\"dataframe\">\n",
              "  <thead>\n",
              "    <tr style=\"text-align: right;\">\n",
              "      <th></th>\n",
              "      <th>avg_consumption</th>\n",
              "    </tr>\n",
              "    <tr>\n",
              "      <th>cluster</th>\n",
              "      <th></th>\n",
              "    </tr>\n",
              "  </thead>\n",
              "  <tbody>\n",
              "    <tr>\n",
              "      <th>0</th>\n",
              "      <td>11838.238390</td>\n",
              "    </tr>\n",
              "    <tr>\n",
              "      <th>1</th>\n",
              "      <td>773.034606</td>\n",
              "    </tr>\n",
              "    <tr>\n",
              "      <th>2</th>\n",
              "      <td>2584.409790</td>\n",
              "    </tr>\n",
              "    <tr>\n",
              "      <th>3</th>\n",
              "      <td>6772.003784</td>\n",
              "    </tr>\n",
              "  </tbody>\n",
              "</table>\n",
              "</div>\n",
              "      <button class=\"colab-df-convert\" onclick=\"convertToInteractive('df-3b0fc34e-e84f-4a6c-9031-c0654cfd6b8d')\"\n",
              "              title=\"Convert this dataframe to an interactive table.\"\n",
              "              style=\"display:none;\">\n",
              "        \n",
              "  <svg xmlns=\"http://www.w3.org/2000/svg\" height=\"24px\"viewBox=\"0 0 24 24\"\n",
              "       width=\"24px\">\n",
              "    <path d=\"M0 0h24v24H0V0z\" fill=\"none\"/>\n",
              "    <path d=\"M18.56 5.44l.94 2.06.94-2.06 2.06-.94-2.06-.94-.94-2.06-.94 2.06-2.06.94zm-11 1L8.5 8.5l.94-2.06 2.06-.94-2.06-.94L8.5 2.5l-.94 2.06-2.06.94zm10 10l.94 2.06.94-2.06 2.06-.94-2.06-.94-.94-2.06-.94 2.06-2.06.94z\"/><path d=\"M17.41 7.96l-1.37-1.37c-.4-.4-.92-.59-1.43-.59-.52 0-1.04.2-1.43.59L10.3 9.45l-7.72 7.72c-.78.78-.78 2.05 0 2.83L4 21.41c.39.39.9.59 1.41.59.51 0 1.02-.2 1.41-.59l7.78-7.78 2.81-2.81c.8-.78.8-2.07 0-2.86zM5.41 20L4 18.59l7.72-7.72 1.47 1.35L5.41 20z\"/>\n",
              "  </svg>\n",
              "      </button>\n",
              "      \n",
              "  <style>\n",
              "    .colab-df-container {\n",
              "      display:flex;\n",
              "      flex-wrap:wrap;\n",
              "      gap: 12px;\n",
              "    }\n",
              "\n",
              "    .colab-df-convert {\n",
              "      background-color: #E8F0FE;\n",
              "      border: none;\n",
              "      border-radius: 50%;\n",
              "      cursor: pointer;\n",
              "      display: none;\n",
              "      fill: #1967D2;\n",
              "      height: 32px;\n",
              "      padding: 0 0 0 0;\n",
              "      width: 32px;\n",
              "    }\n",
              "\n",
              "    .colab-df-convert:hover {\n",
              "      background-color: #E2EBFA;\n",
              "      box-shadow: 0px 1px 2px rgba(60, 64, 67, 0.3), 0px 1px 3px 1px rgba(60, 64, 67, 0.15);\n",
              "      fill: #174EA6;\n",
              "    }\n",
              "\n",
              "    [theme=dark] .colab-df-convert {\n",
              "      background-color: #3B4455;\n",
              "      fill: #D2E3FC;\n",
              "    }\n",
              "\n",
              "    [theme=dark] .colab-df-convert:hover {\n",
              "      background-color: #434B5C;\n",
              "      box-shadow: 0px 1px 3px 1px rgba(0, 0, 0, 0.15);\n",
              "      filter: drop-shadow(0px 1px 2px rgba(0, 0, 0, 0.3));\n",
              "      fill: #FFFFFF;\n",
              "    }\n",
              "  </style>\n",
              "\n",
              "      <script>\n",
              "        const buttonEl =\n",
              "          document.querySelector('#df-3b0fc34e-e84f-4a6c-9031-c0654cfd6b8d button.colab-df-convert');\n",
              "        buttonEl.style.display =\n",
              "          google.colab.kernel.accessAllowed ? 'block' : 'none';\n",
              "\n",
              "        async function convertToInteractive(key) {\n",
              "          const element = document.querySelector('#df-3b0fc34e-e84f-4a6c-9031-c0654cfd6b8d');\n",
              "          const dataTable =\n",
              "            await google.colab.kernel.invokeFunction('convertToInteractive',\n",
              "                                                     [key], {});\n",
              "          if (!dataTable) return;\n",
              "\n",
              "          const docLinkHtml = 'Like what you see? Visit the ' +\n",
              "            '<a target=\"_blank\" href=https://colab.research.google.com/notebooks/data_table.ipynb>data table notebook</a>'\n",
              "            + ' to learn more about interactive tables.';\n",
              "          element.innerHTML = '';\n",
              "          dataTable['output_type'] = 'display_data';\n",
              "          await google.colab.output.renderOutput(dataTable, element);\n",
              "          const docLink = document.createElement('div');\n",
              "          docLink.innerHTML = docLinkHtml;\n",
              "          element.appendChild(docLink);\n",
              "        }\n",
              "      </script>\n",
              "    </div>\n",
              "  </div>\n",
              "  "
            ]
          },
          "metadata": {},
          "execution_count": 7
        }
      ]
    },
    {
      "cell_type": "markdown",
      "source": [
        "# Cluster on Pattern"
      ],
      "metadata": {
        "id": "MMaMfzLk_rh2"
      }
    },
    {
      "cell_type": "code",
      "source": [
        "# load pattern\n",
        "pattern = pd.read_pickle('/content/drive/MyDrive/Stanford-TUBerlin/CodePaper/Residuals/pattern_MB')"
      ],
      "metadata": {
        "id": "9aEJj7CgilaY"
      },
      "execution_count": null,
      "outputs": []
    },
    {
      "cell_type": "code",
      "source": [
        "# silhouette score\n",
        "cluster_groups = clusters.groupby('avg_consump')\n",
        "\n",
        "for name, group in cluster_groups:\n",
        "  pattern_group = pattern.loc[group.index].pattern.apply(pd.Series)\n",
        "  range_n_clusters = range(2,10)\n",
        "\n",
        "  fig, ax = plt.subplots(1, figsize=(10,7))\n",
        "\n",
        "  silhouettes = []\n",
        "\n",
        "  for n_clusters in range_n_clusters:\n",
        "      # Initialize the clusterer with n_clusters value and a random generator\n",
        "      # seed of 17 for reproducibility.\n",
        "      clusterer = AgglomerativeClustering(n_clusters=n_clusters, linkage='complete')\n",
        "      cluster_labels = clusterer.fit_predict(pattern_group)\n",
        "      # The silhouette_score gives the average value for all the samples.\n",
        "      # This gives a perspective into the density and separation of the formed\n",
        "      # clusters\n",
        "      silhouette_avg = silhouette_score(pattern_group, cluster_labels)\n",
        "      silhouettes.append(silhouette_avg)\n",
        "      \n",
        "  ax.plot(range_n_clusters, silhouettes, 'o-')\n",
        "  ax.set_ylabel('Average silhouette coefficient')\n",
        "  ax.set_xlabel('K')\n",
        "  ax.grid()\n",
        "  fig.suptitle('Silhouette coefficient for group {}'.format(name))\n",
        "  plt.show()"
      ],
      "metadata": {
        "id": "9nqbvq2Sj0FD"
      },
      "execution_count": null,
      "outputs": []
    },
    {
      "cell_type": "code",
      "source": [
        "# dendrogramm\n",
        "cluster_groups = clusters.groupby('avg_consump')\n",
        "\n",
        "for name, group in cluster_groups:\n",
        "  pattern_group = pattern.loc[group.index].pattern.apply(pd.Series)\n",
        "\n",
        "  fig, ax = plt.subplots(1, figsize=(10,7))\n",
        "  model = AgglomerativeClustering(distance_threshold=0, n_clusters=None, linkage='complete')\n",
        "  model = model.fit(pattern_group)\n",
        "  plot_dendrogram(model, truncate_mode='level', p=3 )\n",
        "  ax.set_ylabel('similarity')\n",
        "  fig.suptitle('Dendrogram for group {}'.format(name))\n",
        "  plt.show()"
      ],
      "metadata": {
        "id": "ATQCOg_9LPWi"
      },
      "execution_count": null,
      "outputs": []
    },
    {
      "cell_type": "code",
      "source": [
        "xtimeline = pd.date_range(start='1/1/2008',  end='7/1/2020', freq='2MS')"
      ],
      "metadata": {
        "id": "VJHex53cZJxj"
      },
      "execution_count": null,
      "outputs": []
    },
    {
      "cell_type": "code",
      "source": [
        "len(time_base)"
      ],
      "metadata": {
        "colab": {
          "base_uri": "https://localhost:8080/"
        },
        "id": "R-p4NImF5t4S",
        "outputId": "382cf5cc-4fe1-4018-c03e-8f5633242274"
      },
      "execution_count": null,
      "outputs": [
        {
          "output_type": "execute_result",
          "data": {
            "text/plain": [
              "76"
            ]
          },
          "metadata": {},
          "execution_count": 57
        }
      ]
    },
    {
      "cell_type": "code",
      "source": [
        "cluster_groups = clusters.groupby('avg_consump')\n",
        "n_clusters = [1, 4, 3, 2]\n",
        "for i, (name, group) in enumerate(cluster_groups):\n",
        "  pattern_group = pattern.loc[group.index].pattern.apply(pd.Series)\n",
        "  model = AgglomerativeClustering( n_clusters=n_clusters[i], linkage='complete')\n",
        "  labels = model.fit_predict(pattern_group)\n",
        "  clusters.loc[group.index, 'pattern'] = labels.astype(int)\n",
        "\n",
        "\n"
      ],
      "metadata": {
        "id": "hFfzKgNVPla2"
      },
      "execution_count": null,
      "outputs": []
    },
    {
      "cell_type": "code",
      "source": [
        "clusters.to_pickle('/content/drive/MyDrive/Stanford-TUBerlin/CodePaper/Clustering/MB_clusters.pdf')"
      ],
      "metadata": {
        "colab": {
          "base_uri": "https://localhost:8080/",
          "height": 455
        },
        "id": "-PHcAQAHFkwK",
        "outputId": "19591556-cb3b-4a41-84f4-ea092d82b35b"
      },
      "execution_count": null,
      "outputs": [
        {
          "output_type": "execute_result",
          "data": {
            "text/plain": [
              "              avg_consump  pattern\n",
              "W_LocationID                      \n",
              "MW10002                 1      1.0\n",
              "MW10003                 1      1.0\n",
              "MW10006                 1      1.0\n",
              "MW10007                 1      1.0\n",
              "MW10008                 1      1.0\n",
              "...                   ...      ...\n",
              "MW9989                  2      0.0\n",
              "MW9990                  2      2.0\n",
              "MW9991                  2      0.0\n",
              "MW9992                  2      2.0\n",
              "MW9993                  2      2.0\n",
              "\n",
              "[1124 rows x 2 columns]"
            ],
            "text/html": [
              "\n",
              "  <div id=\"df-282540a8-a48e-4289-9ad7-61a5f40fdbce\">\n",
              "    <div class=\"colab-df-container\">\n",
              "      <div>\n",
              "<style scoped>\n",
              "    .dataframe tbody tr th:only-of-type {\n",
              "        vertical-align: middle;\n",
              "    }\n",
              "\n",
              "    .dataframe tbody tr th {\n",
              "        vertical-align: top;\n",
              "    }\n",
              "\n",
              "    .dataframe thead th {\n",
              "        text-align: right;\n",
              "    }\n",
              "</style>\n",
              "<table border=\"1\" class=\"dataframe\">\n",
              "  <thead>\n",
              "    <tr style=\"text-align: right;\">\n",
              "      <th></th>\n",
              "      <th>avg_consump</th>\n",
              "      <th>pattern</th>\n",
              "    </tr>\n",
              "    <tr>\n",
              "      <th>W_LocationID</th>\n",
              "      <th></th>\n",
              "      <th></th>\n",
              "    </tr>\n",
              "  </thead>\n",
              "  <tbody>\n",
              "    <tr>\n",
              "      <th>MW10002</th>\n",
              "      <td>1</td>\n",
              "      <td>1.0</td>\n",
              "    </tr>\n",
              "    <tr>\n",
              "      <th>MW10003</th>\n",
              "      <td>1</td>\n",
              "      <td>1.0</td>\n",
              "    </tr>\n",
              "    <tr>\n",
              "      <th>MW10006</th>\n",
              "      <td>1</td>\n",
              "      <td>1.0</td>\n",
              "    </tr>\n",
              "    <tr>\n",
              "      <th>MW10007</th>\n",
              "      <td>1</td>\n",
              "      <td>1.0</td>\n",
              "    </tr>\n",
              "    <tr>\n",
              "      <th>MW10008</th>\n",
              "      <td>1</td>\n",
              "      <td>1.0</td>\n",
              "    </tr>\n",
              "    <tr>\n",
              "      <th>...</th>\n",
              "      <td>...</td>\n",
              "      <td>...</td>\n",
              "    </tr>\n",
              "    <tr>\n",
              "      <th>MW9989</th>\n",
              "      <td>2</td>\n",
              "      <td>0.0</td>\n",
              "    </tr>\n",
              "    <tr>\n",
              "      <th>MW9990</th>\n",
              "      <td>2</td>\n",
              "      <td>2.0</td>\n",
              "    </tr>\n",
              "    <tr>\n",
              "      <th>MW9991</th>\n",
              "      <td>2</td>\n",
              "      <td>0.0</td>\n",
              "    </tr>\n",
              "    <tr>\n",
              "      <th>MW9992</th>\n",
              "      <td>2</td>\n",
              "      <td>2.0</td>\n",
              "    </tr>\n",
              "    <tr>\n",
              "      <th>MW9993</th>\n",
              "      <td>2</td>\n",
              "      <td>2.0</td>\n",
              "    </tr>\n",
              "  </tbody>\n",
              "</table>\n",
              "<p>1124 rows × 2 columns</p>\n",
              "</div>\n",
              "      <button class=\"colab-df-convert\" onclick=\"convertToInteractive('df-282540a8-a48e-4289-9ad7-61a5f40fdbce')\"\n",
              "              title=\"Convert this dataframe to an interactive table.\"\n",
              "              style=\"display:none;\">\n",
              "        \n",
              "  <svg xmlns=\"http://www.w3.org/2000/svg\" height=\"24px\"viewBox=\"0 0 24 24\"\n",
              "       width=\"24px\">\n",
              "    <path d=\"M0 0h24v24H0V0z\" fill=\"none\"/>\n",
              "    <path d=\"M18.56 5.44l.94 2.06.94-2.06 2.06-.94-2.06-.94-.94-2.06-.94 2.06-2.06.94zm-11 1L8.5 8.5l.94-2.06 2.06-.94-2.06-.94L8.5 2.5l-.94 2.06-2.06.94zm10 10l.94 2.06.94-2.06 2.06-.94-2.06-.94-.94-2.06-.94 2.06-2.06.94z\"/><path d=\"M17.41 7.96l-1.37-1.37c-.4-.4-.92-.59-1.43-.59-.52 0-1.04.2-1.43.59L10.3 9.45l-7.72 7.72c-.78.78-.78 2.05 0 2.83L4 21.41c.39.39.9.59 1.41.59.51 0 1.02-.2 1.41-.59l7.78-7.78 2.81-2.81c.8-.78.8-2.07 0-2.86zM5.41 20L4 18.59l7.72-7.72 1.47 1.35L5.41 20z\"/>\n",
              "  </svg>\n",
              "      </button>\n",
              "      \n",
              "  <style>\n",
              "    .colab-df-container {\n",
              "      display:flex;\n",
              "      flex-wrap:wrap;\n",
              "      gap: 12px;\n",
              "    }\n",
              "\n",
              "    .colab-df-convert {\n",
              "      background-color: #E8F0FE;\n",
              "      border: none;\n",
              "      border-radius: 50%;\n",
              "      cursor: pointer;\n",
              "      display: none;\n",
              "      fill: #1967D2;\n",
              "      height: 32px;\n",
              "      padding: 0 0 0 0;\n",
              "      width: 32px;\n",
              "    }\n",
              "\n",
              "    .colab-df-convert:hover {\n",
              "      background-color: #E2EBFA;\n",
              "      box-shadow: 0px 1px 2px rgba(60, 64, 67, 0.3), 0px 1px 3px 1px rgba(60, 64, 67, 0.15);\n",
              "      fill: #174EA6;\n",
              "    }\n",
              "\n",
              "    [theme=dark] .colab-df-convert {\n",
              "      background-color: #3B4455;\n",
              "      fill: #D2E3FC;\n",
              "    }\n",
              "\n",
              "    [theme=dark] .colab-df-convert:hover {\n",
              "      background-color: #434B5C;\n",
              "      box-shadow: 0px 1px 3px 1px rgba(0, 0, 0, 0.15);\n",
              "      filter: drop-shadow(0px 1px 2px rgba(0, 0, 0, 0.3));\n",
              "      fill: #FFFFFF;\n",
              "    }\n",
              "  </style>\n",
              "\n",
              "      <script>\n",
              "        const buttonEl =\n",
              "          document.querySelector('#df-282540a8-a48e-4289-9ad7-61a5f40fdbce button.colab-df-convert');\n",
              "        buttonEl.style.display =\n",
              "          google.colab.kernel.accessAllowed ? 'block' : 'none';\n",
              "\n",
              "        async function convertToInteractive(key) {\n",
              "          const element = document.querySelector('#df-282540a8-a48e-4289-9ad7-61a5f40fdbce');\n",
              "          const dataTable =\n",
              "            await google.colab.kernel.invokeFunction('convertToInteractive',\n",
              "                                                     [key], {});\n",
              "          if (!dataTable) return;\n",
              "\n",
              "          const docLinkHtml = 'Like what you see? Visit the ' +\n",
              "            '<a target=\"_blank\" href=https://colab.research.google.com/notebooks/data_table.ipynb>data table notebook</a>'\n",
              "            + ' to learn more about interactive tables.';\n",
              "          element.innerHTML = '';\n",
              "          dataTable['output_type'] = 'display_data';\n",
              "          await google.colab.output.renderOutput(dataTable, element);\n",
              "          const docLink = document.createElement('div');\n",
              "          docLink.innerHTML = docLinkHtml;\n",
              "          element.appendChild(docLink);\n",
              "        }\n",
              "      </script>\n",
              "    </div>\n",
              "  </div>\n",
              "  "
            ]
          },
          "metadata": {},
          "execution_count": 10
        }
      ]
    },
    {
      "cell_type": "markdown",
      "source": [
        "## Plots"
      ],
      "metadata": {
        "id": "b0Iw1TDbBVjj"
      }
    },
    {
      "cell_type": "markdown",
      "source": [
        "### Barplot+ smooth"
      ],
      "metadata": {
        "id": "tSEfduC_QdbO"
      }
    },
    {
      "cell_type": "code",
      "source": [
        "import matplotlib.colors as colors\n",
        "def truncate_colormap(cmap, minval=0.0, maxval=1.0, n=100):\n",
        "    new_cmap = colors.LinearSegmentedColormap.from_list(\n",
        "        'trunc({n},{a:.2f},{b:.2f})'.format(n=cmap.name, a=minval, b=maxval),\n",
        "        cmap(np.linspace(minval, maxval, n)))\n",
        "    return new_cmap\n",
        "\n",
        "# adapt colormap\n",
        "cmap = plt.get_cmap('Blues_r')\n",
        "new_cmap = truncate_colormap(cmap, 0.1, 0.7)"
      ],
      "metadata": {
        "id": "vz495BD0Z_BZ"
      },
      "execution_count": null,
      "outputs": []
    },
    {
      "cell_type": "code",
      "source": [
        "timeline = pd.date_range(start='1/1/2008',  end='7/1/2020', freq='2MS')\n",
        "consump_group = ['super', 'low', 'medium', 'high']\n",
        "\n",
        "for i, (name, group) in enumerate(pattern_group):\n",
        "  toPlotpattern = pattern.loc[group.index].pattern.apply(pd.Series)\n",
        "  toPlotpattern.columns = timeline\n",
        "  barplot_df = pd.DataFrame(index = timeline, columns= [-1, 0, 1])\n",
        "  for date in timeline:\n",
        "    count = pd.value_counts(toPlotpattern[date])\n",
        "    barplot_df.loc[date] =  count\n",
        "\n",
        "  # sort groups\n",
        "  categories = [1, 0, -1]\n",
        "  barplot_df.columns = pd.CategoricalIndex(barplot_df.columns.values, \n",
        "                                 ordered=True, \n",
        "                                 categories=categories)\n",
        "  # Sort the columns (axis=1) by the new categorical ordering\n",
        "  barplot_df = barplot_df.sort_index(axis=1)\n",
        "  \n",
        "  #barplot\n",
        "  ax1 = barplot_df.plot.bar(stacked=True, figsize=(10,6),color=['tab:red', 'tab:green', 'tab:blue'], width=1, rot=0, legend=False)\n",
        "  \n",
        "  #pattern from clusters smoothend\n",
        "  toPlotMean = toPlotpattern.mean(axis=0)\n",
        "  MeanSmoothed = pd.DataFrame(index = timeline, columns=['mean'], data =gaussian_filter1d(toPlotMean, sigma=2)) \n",
        "  ax2 = ax1.twinx()\n",
        "  ax2.spines['right'].set_position(('axes', 1.0))\n",
        "  ax2.set_ylim(-1,1)\n",
        "  MeanSmoothed.plot(linestyle='-', linewidth = 2, color='k', use_index=False, ax=ax2)\n",
        "  #ax2.tick_params(axis='y', labelcolor='tab:red')\n",
        "  \n",
        "  # merge legends\n",
        "  lines, labels = ax1.get_legend_handles_labels()\n",
        "  lines2, labels2 = ax2.get_legend_handles_labels()\n",
        "  ax2.legend(lines + lines2, ['increase', 'no change', 'decrease'] + labels2)\n",
        "\n",
        "  n=6\n",
        "  ticks = ax1.xaxis.get_ticklocs()\n",
        "  ax1.xaxis.set_ticks(ticks[::n])\n",
        "  ax1.xaxis.set_ticklabels(barplot_df.index.year[::n])\n",
        "\n",
        "  ax1.set_ylabel(' Count')\n",
        "  ax2.set_ylabel(' Mean')\n",
        "\n",
        "  plt.title('Consumption Group {} – Pattern Group {} – Count {}'.format(consump_group[name[0]], name[1], len(toPlotpattern)))\n",
        "  plt.savefig('/content/drive/MyDrive/Stanford-TUBerlin/CodePaper/Clustering/MB/barplot/bar_{}_pattern{}.pdf'.format(consump_group[name[0]], name[1]))\n",
        "  plt.close()"
      ],
      "metadata": {
        "id": "BpZUs_ykk1RO"
      },
      "execution_count": null,
      "outputs": []
    },
    {
      "cell_type": "code",
      "source": [],
      "metadata": {
        "id": "EzWMsc9BEG_y"
      },
      "execution_count": null,
      "outputs": []
    }
  ]
}