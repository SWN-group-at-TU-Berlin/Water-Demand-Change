{
  "nbformat": 4,
  "nbformat_minor": 0,
  "metadata": {
    "colab": {
      "provenance": []
    },
    "kernelspec": {
      "name": "python3",
      "display_name": "Python 3"
    },
    "language_info": {
      "name": "python"
    }
  },
  "cells": [
    {
      "cell_type": "code",
      "execution_count": null,
      "metadata": {
        "colab": {
          "base_uri": "https://localhost:8080/"
        },
        "id": "2MkTQb9HewGy",
        "outputId": "cbb051e1-5659-4bf6-a3f8-08400a06e0c6"
      },
      "outputs": [
        {
          "output_type": "stream",
          "name": "stdout",
          "text": [
            "Mounted at /content/drive/\n"
          ]
        }
      ],
      "source": [
        "from google.colab import drive\n",
        "drive.mount('/content/drive/')"
      ]
    },
    {
      "cell_type": "code",
      "source": [
        "import numpy as np\n",
        "import pandas as pd\n",
        "import matplotlib.pyplot as plt\n",
        "from datetime import datetime, timedelta\n",
        "from scipy.ndimage.filters import gaussian_filter1d\n",
        "\n",
        "#model\n",
        "from sklearn.cluster import AgglomerativeClustering\n",
        "\n",
        "#visualization\n",
        "from scipy.cluster.hierarchy import dendrogram\n",
        "# packages for cluster determination \n",
        "from sklearn.metrics import silhouette_samples, silhouette_score"
      ],
      "metadata": {
        "id": "JNciTy-6e0f7"
      },
      "execution_count": null,
      "outputs": []
    },
    {
      "cell_type": "code",
      "source": [
        "def plot_dendrogram(model, **kwargs):\n",
        "    # Create linkage matrix and then plot the dendrogram\n",
        "\n",
        "    # create the counts of samples under each node\n",
        "    counts = np.zeros(model.children_.shape[0])\n",
        "    n_samples = len(model.labels_)\n",
        "    for i, merge in enumerate(model.children_):\n",
        "        current_count = 0\n",
        "        for child_idx in merge:\n",
        "            if child_idx < n_samples:\n",
        "                current_count += 1  # leaf node\n",
        "            else:\n",
        "                current_count += counts[child_idx - n_samples]\n",
        "        counts[i] = current_count\n",
        "\n",
        "    linkage_matrix = np.column_stack([model.children_, model.distances_,\n",
        "                                      counts]).astype(float)\n",
        "\n",
        "    # Plot the corresponding dendrogram\n",
        "    dendrogram(linkage_matrix, **kwargs)\n"
      ],
      "metadata": {
        "id": "devRxAvtikSp"
      },
      "execution_count": null,
      "outputs": []
    },
    {
      "cell_type": "markdown",
      "source": [
        "# 1. Clustering avg. Baseline consumption"
      ],
      "metadata": {
        "id": "QDAd7c9M4QEI"
      }
    },
    {
      "cell_type": "code",
      "source": [
        "# load consumption data\n",
        "consumption = pd.read_pickle('/content/drive/MyDrive/Stanford-TUBerlin/CodePaper/Consumption_Matrices/{}_accounts_actual_usage'.format('SD'))\n",
        "\n",
        "# compute avg. consumption for baseline \n",
        "time_base = pd.date_range(start='1/1/2002',  end='11/1/2007', freq='2MS')\n",
        "consumption_base = consumption[time_base]\n",
        "\n",
        "consumption_avg = pd.DataFrame(index=consumption.index)\n",
        "consumption_avg['avg_consumption'] = consumption_base.mean(axis=1)"
      ],
      "metadata": {
        "id": "bFmZqCxI4X7w"
      },
      "execution_count": null,
      "outputs": []
    },
    {
      "cell_type": "code",
      "source": [
        "model = AgglomerativeClustering( n_clusters=4, linkage='ward')\n",
        "model = model.fit(consumption_avg)\n",
        "\n",
        "clusters = pd.DataFrame(index=consumption.index)\n",
        "clusters['avg_consump'] = model.labels_\n",
        "clusters['pattern']=  np.nan"
      ],
      "metadata": {
        "id": "qTJqmF5--7wZ"
      },
      "execution_count": null,
      "outputs": []
    },
    {
      "cell_type": "code",
      "source": [
        "consumption_avg['cluster'] = clusters['avg_consump']"
      ],
      "metadata": {
        "id": "C0zKUXIF_5yR"
      },
      "execution_count": null,
      "outputs": []
    },
    {
      "cell_type": "code",
      "source": [
        "consumption_avg.groupby('cluster').mean()"
      ],
      "metadata": {
        "colab": {
          "base_uri": "https://localhost:8080/",
          "height": 206
        },
        "id": "LEf9queVAGVr",
        "outputId": "2a5003b0-e478-46c0-e56d-c656cd94a320"
      },
      "execution_count": null,
      "outputs": [
        {
          "output_type": "execute_result",
          "data": {
            "text/plain": [
              "         avg_consumption\n",
              "cluster                 \n",
              "0             117.335324\n",
              "1             321.297422\n",
              "2             199.469235\n",
              "3             634.901359"
            ],
            "text/html": [
              "\n",
              "  <div id=\"df-3c616c1a-d3d7-4667-9f8f-48ba3990d8ac\">\n",
              "    <div class=\"colab-df-container\">\n",
              "      <div>\n",
              "<style scoped>\n",
              "    .dataframe tbody tr th:only-of-type {\n",
              "        vertical-align: middle;\n",
              "    }\n",
              "\n",
              "    .dataframe tbody tr th {\n",
              "        vertical-align: top;\n",
              "    }\n",
              "\n",
              "    .dataframe thead th {\n",
              "        text-align: right;\n",
              "    }\n",
              "</style>\n",
              "<table border=\"1\" class=\"dataframe\">\n",
              "  <thead>\n",
              "    <tr style=\"text-align: right;\">\n",
              "      <th></th>\n",
              "      <th>avg_consumption</th>\n",
              "    </tr>\n",
              "    <tr>\n",
              "      <th>cluster</th>\n",
              "      <th></th>\n",
              "    </tr>\n",
              "  </thead>\n",
              "  <tbody>\n",
              "    <tr>\n",
              "      <th>0</th>\n",
              "      <td>117.335324</td>\n",
              "    </tr>\n",
              "    <tr>\n",
              "      <th>1</th>\n",
              "      <td>321.297422</td>\n",
              "    </tr>\n",
              "    <tr>\n",
              "      <th>2</th>\n",
              "      <td>199.469235</td>\n",
              "    </tr>\n",
              "    <tr>\n",
              "      <th>3</th>\n",
              "      <td>634.901359</td>\n",
              "    </tr>\n",
              "  </tbody>\n",
              "</table>\n",
              "</div>\n",
              "      <button class=\"colab-df-convert\" onclick=\"convertToInteractive('df-3c616c1a-d3d7-4667-9f8f-48ba3990d8ac')\"\n",
              "              title=\"Convert this dataframe to an interactive table.\"\n",
              "              style=\"display:none;\">\n",
              "        \n",
              "  <svg xmlns=\"http://www.w3.org/2000/svg\" height=\"24px\"viewBox=\"0 0 24 24\"\n",
              "       width=\"24px\">\n",
              "    <path d=\"M0 0h24v24H0V0z\" fill=\"none\"/>\n",
              "    <path d=\"M18.56 5.44l.94 2.06.94-2.06 2.06-.94-2.06-.94-.94-2.06-.94 2.06-2.06.94zm-11 1L8.5 8.5l.94-2.06 2.06-.94-2.06-.94L8.5 2.5l-.94 2.06-2.06.94zm10 10l.94 2.06.94-2.06 2.06-.94-2.06-.94-.94-2.06-.94 2.06-2.06.94z\"/><path d=\"M17.41 7.96l-1.37-1.37c-.4-.4-.92-.59-1.43-.59-.52 0-1.04.2-1.43.59L10.3 9.45l-7.72 7.72c-.78.78-.78 2.05 0 2.83L4 21.41c.39.39.9.59 1.41.59.51 0 1.02-.2 1.41-.59l7.78-7.78 2.81-2.81c.8-.78.8-2.07 0-2.86zM5.41 20L4 18.59l7.72-7.72 1.47 1.35L5.41 20z\"/>\n",
              "  </svg>\n",
              "      </button>\n",
              "      \n",
              "  <style>\n",
              "    .colab-df-container {\n",
              "      display:flex;\n",
              "      flex-wrap:wrap;\n",
              "      gap: 12px;\n",
              "    }\n",
              "\n",
              "    .colab-df-convert {\n",
              "      background-color: #E8F0FE;\n",
              "      border: none;\n",
              "      border-radius: 50%;\n",
              "      cursor: pointer;\n",
              "      display: none;\n",
              "      fill: #1967D2;\n",
              "      height: 32px;\n",
              "      padding: 0 0 0 0;\n",
              "      width: 32px;\n",
              "    }\n",
              "\n",
              "    .colab-df-convert:hover {\n",
              "      background-color: #E2EBFA;\n",
              "      box-shadow: 0px 1px 2px rgba(60, 64, 67, 0.3), 0px 1px 3px 1px rgba(60, 64, 67, 0.15);\n",
              "      fill: #174EA6;\n",
              "    }\n",
              "\n",
              "    [theme=dark] .colab-df-convert {\n",
              "      background-color: #3B4455;\n",
              "      fill: #D2E3FC;\n",
              "    }\n",
              "\n",
              "    [theme=dark] .colab-df-convert:hover {\n",
              "      background-color: #434B5C;\n",
              "      box-shadow: 0px 1px 3px 1px rgba(0, 0, 0, 0.15);\n",
              "      filter: drop-shadow(0px 1px 2px rgba(0, 0, 0, 0.3));\n",
              "      fill: #FFFFFF;\n",
              "    }\n",
              "  </style>\n",
              "\n",
              "      <script>\n",
              "        const buttonEl =\n",
              "          document.querySelector('#df-3c616c1a-d3d7-4667-9f8f-48ba3990d8ac button.colab-df-convert');\n",
              "        buttonEl.style.display =\n",
              "          google.colab.kernel.accessAllowed ? 'block' : 'none';\n",
              "\n",
              "        async function convertToInteractive(key) {\n",
              "          const element = document.querySelector('#df-3c616c1a-d3d7-4667-9f8f-48ba3990d8ac');\n",
              "          const dataTable =\n",
              "            await google.colab.kernel.invokeFunction('convertToInteractive',\n",
              "                                                     [key], {});\n",
              "          if (!dataTable) return;\n",
              "\n",
              "          const docLinkHtml = 'Like what you see? Visit the ' +\n",
              "            '<a target=\"_blank\" href=https://colab.research.google.com/notebooks/data_table.ipynb>data table notebook</a>'\n",
              "            + ' to learn more about interactive tables.';\n",
              "          element.innerHTML = '';\n",
              "          dataTable['output_type'] = 'display_data';\n",
              "          await google.colab.output.renderOutput(dataTable, element);\n",
              "          const docLink = document.createElement('div');\n",
              "          docLink.innerHTML = docLinkHtml;\n",
              "          element.appendChild(docLink);\n",
              "        }\n",
              "      </script>\n",
              "    </div>\n",
              "  </div>\n",
              "  "
            ]
          },
          "metadata": {},
          "execution_count": 7
        }
      ]
    },
    {
      "cell_type": "markdown",
      "source": [
        "# Cluster on Pattern"
      ],
      "metadata": {
        "id": "MMaMfzLk_rh2"
      }
    },
    {
      "cell_type": "code",
      "source": [
        "# load pattern\n",
        "pattern = pd.read_pickle('/content/drive/MyDrive/Stanford-TUBerlin/CodePaper/Residuals/pattern_SD')"
      ],
      "metadata": {
        "id": "9aEJj7CgilaY"
      },
      "execution_count": null,
      "outputs": []
    },
    {
      "cell_type": "code",
      "source": [
        "# silhouette score\n",
        "cluster_groups = clusters.groupby('avg_consump')\n",
        "\n",
        "for name, group in cluster_groups:\n",
        "  pattern_group = pattern.loc[group.index].pattern.apply(pd.Series)\n",
        "  range_n_clusters = range(2,10)\n",
        "\n",
        "  fig, ax = plt.subplots(1, figsize=(10,7))\n",
        "\n",
        "  silhouettes = []\n",
        "\n",
        "  for n_clusters in range_n_clusters:\n",
        "      # Initialize the clusterer with n_clusters value and a random generator\n",
        "      # seed of 17 for reproducibility.\n",
        "      clusterer = AgglomerativeClustering(n_clusters=n_clusters, linkage='complete')\n",
        "      cluster_labels = clusterer.fit_predict(pattern_group)\n",
        "      # The silhouette_score gives the average value for all the samples.\n",
        "      # This gives a perspective into the density and separation of the formed\n",
        "      # clusters\n",
        "      silhouette_avg = silhouette_score(pattern_group, cluster_labels)\n",
        "      silhouettes.append(silhouette_avg)\n",
        "      \n",
        "  ax.plot(range_n_clusters, silhouettes, 'o-')\n",
        "  ax.set_ylabel('Average silhouette coefficient')\n",
        "  ax.set_xlabel('K')\n",
        "  ax.grid()\n",
        "  fig.suptitle('Silhouette coefficient for group {}'.format(name))\n",
        "  plt.show()"
      ],
      "metadata": {
        "id": "9nqbvq2Sj0FD"
      },
      "execution_count": null,
      "outputs": []
    },
    {
      "cell_type": "code",
      "source": [
        "# dendrogramm\n",
        "cluster_groups = clusters.groupby('avg_consump')\n",
        "\n",
        "for name, group in cluster_groups:\n",
        "  pattern_group = pattern.loc[group.index].pattern.apply(pd.Series)\n",
        "\n",
        "  fig, ax = plt.subplots(1, figsize=(10,7))\n",
        "  model = AgglomerativeClustering(distance_threshold=0, n_clusters=None, linkage='complete')\n",
        "  model = model.fit(pattern_group)\n",
        "  plot_dendrogram(model, truncate_mode='level', p=3 )\n",
        "  ax.set_ylabel('similarity')\n",
        "  fig.suptitle('Dendrogram for group {}'.format(name))\n",
        "  plt.show()"
      ],
      "metadata": {
        "id": "ATQCOg_9LPWi"
      },
      "execution_count": null,
      "outputs": []
    },
    {
      "cell_type": "code",
      "source": [
        "xtimeline = pd.date_range(start='1/1/2008',  end='7/1/2020', freq='2MS')"
      ],
      "metadata": {
        "id": "VJHex53cZJxj"
      },
      "execution_count": null,
      "outputs": []
    },
    {
      "cell_type": "code",
      "source": [
        "cluster_groups = clusters.groupby('avg_consump')\n",
        "n_clusters = [4, 3, 5, 2]\n",
        "for i, (name, group) in enumerate(cluster_groups):\n",
        "  pattern_group = pattern.loc[group.index].pattern.apply(pd.Series)\n",
        "  model = AgglomerativeClustering( n_clusters=n_clusters[i], linkage='complete')\n",
        "  labels = model.fit_predict(pattern_group)\n",
        "  clusters.loc[group.index, 'pattern'] = labels.astype(int)\n",
        "\n",
        "\n"
      ],
      "metadata": {
        "id": "hFfzKgNVPla2"
      },
      "execution_count": null,
      "outputs": []
    },
    {
      "cell_type": "code",
      "source": [
        "clusters.to_pickle('/content/drive/MyDrive/Stanford-TUBerlin/CodePaper/Clustering/SD_clusters')"
      ],
      "metadata": {
        "id": "9XHuUjM6H9gS"
      },
      "execution_count": null,
      "outputs": []
    }
  ]
}