{
  "nbformat": 4,
  "nbformat_minor": 0,
  "metadata": {
    "colab": {
      "provenance": []
    },
    "kernelspec": {
      "name": "python3",
      "display_name": "Python 3"
    },
    "language_info": {
      "name": "python"
    }
  },
  "cells": [
    {
      "cell_type": "code",
      "execution_count": null,
      "metadata": {
        "colab": {
          "base_uri": "https://localhost:8080/"
        },
        "id": "gpYD-l-dtIp8",
        "outputId": "1a47d99b-f76f-4fac-a76b-8c0d4765f875"
      },
      "outputs": [
        {
          "output_type": "stream",
          "name": "stdout",
          "text": [
            "Mounted at /content/drive/\n"
          ]
        }
      ],
      "source": [
        "from google.colab import drive\n",
        "drive.mount('/content/drive/')\n"
      ]
    },
    {
      "cell_type": "code",
      "source": [
        "import numpy as np\n",
        "import pandas as pd\n",
        "import matplotlib.pyplot as plt\n",
        "import seaborn as sns\n",
        "from datetime import datetime, timedelta"
      ],
      "metadata": {
        "id": "EJube6BqtPuA"
      },
      "execution_count": null,
      "outputs": []
    },
    {
      "cell_type": "code",
      "source": [
        "customers = ['SB', 'SD', 'MB', 'MD']\n",
        "\n",
        "for i in customers:\n",
        "  if i == 'SB':\n",
        "    target_data = pd.read_pickle('/content/drive/MyDrive/Stanford-TUBerlin/CodePaper/Consumption_Matrices/{}_accounts_actual_usage'.format(i))\n",
        "  else:\n",
        "    df_append = pd.read_pickle('/content/drive/MyDrive/Stanford-TUBerlin/CodePaper/Consumption_Matrices/{}_accounts_actual_usage'.format(i))\n",
        "    target_data = pd.concat([target_data, df_append])"
      ],
      "metadata": {
        "id": "RloZEonRtZja"
      },
      "execution_count": null,
      "outputs": []
    },
    {
      "cell_type": "code",
      "source": [
        "df_march = target_data[['2019-03-01', '2018-03-01', '2017-03-01']]\n",
        "df_march.columns = [2019, 2018, 2017]\n"
      ],
      "metadata": {
        "id": "G7JITx1WuneZ"
      },
      "execution_count": null,
      "outputs": []
    },
    {
      "cell_type": "code",
      "source": [
        "df_may = target_data[['2019-05-01', '2018-05-01', '2017-05-01']]\n",
        "df_may.columns = [2019, 2018, 2017]\n"
      ],
      "metadata": {
        "id": "tuAQe7kqmkfg"
      },
      "execution_count": null,
      "outputs": []
    },
    {
      "cell_type": "code",
      "source": [
        "df_std = df_may.subtract(df_march).std(axis=1).to_frame()"
      ],
      "metadata": {
        "id": "t3_kpKnfur3j"
      },
      "execution_count": null,
      "outputs": []
    },
    {
      "cell_type": "code",
      "source": [
        "df_20 = target_data[['2020-05-01', '2020-03-01']]\n",
        "df_20.columns = ['may', 'march']"
      ],
      "metadata": {
        "id": "Bg4HzybSwUIJ"
      },
      "execution_count": null,
      "outputs": []
    },
    {
      "cell_type": "code",
      "source": [
        "df_20['diff'] = df_20.may - df_20.march"
      ],
      "metadata": {
        "id": "wUkPv6exfEOx",
        "colab": {
          "base_uri": "https://localhost:8080/"
        },
        "outputId": "0f9f20e2-fe2e-428f-95ed-2814c633f09b"
      },
      "execution_count": null,
      "outputs": [
        {
          "output_type": "stream",
          "name": "stderr",
          "text": [
            "/usr/local/lib/python3.7/dist-packages/ipykernel_launcher.py:1: SettingWithCopyWarning: \n",
            "A value is trying to be set on a copy of a slice from a DataFrame.\n",
            "Try using .loc[row_indexer,col_indexer] = value instead\n",
            "\n",
            "See the caveats in the documentation: https://pandas.pydata.org/pandas-docs/stable/user_guide/indexing.html#returning-a-view-versus-a-copy\n",
            "  \"\"\"Entry point for launching an IPython kernel.\n"
          ]
        }
      ]
    },
    {
      "cell_type": "code",
      "source": [
        "df_20['change'] = np.NaN"
      ],
      "metadata": {
        "id": "qy1fGxf-fERv",
        "colab": {
          "base_uri": "https://localhost:8080/"
        },
        "outputId": "c15f111f-7a00-4564-b7ae-6b596a92cb70"
      },
      "execution_count": null,
      "outputs": [
        {
          "output_type": "stream",
          "name": "stderr",
          "text": [
            "/usr/local/lib/python3.7/dist-packages/ipykernel_launcher.py:1: SettingWithCopyWarning: \n",
            "A value is trying to be set on a copy of a slice from a DataFrame.\n",
            "Try using .loc[row_indexer,col_indexer] = value instead\n",
            "\n",
            "See the caveats in the documentation: https://pandas.pydata.org/pandas-docs/stable/user_guide/indexing.html#returning-a-view-versus-a-copy\n",
            "  \"\"\"Entry point for launching an IPython kernel.\n"
          ]
        }
      ]
    },
    {
      "cell_type": "code",
      "source": [
        "\n",
        "for idx in df_std.index:\n",
        "  # increase\n",
        "  if df_20['diff'].loc[idx] > df_std[0].loc[idx]:\n",
        "    #print(df_20['diff'].loc[idx], df_std[0].loc[idx], 1)\n",
        "    df_20.loc[idx]['change'] = 1\n",
        "\n",
        "  # decrease\n",
        "  if df_20['diff'].loc[idx] < -df_std[0].loc[idx]:\n",
        "    #print(df_20['diff'].loc[idx], df_std[0].loc[idx], 2)\n",
        "    df_20.loc[idx]['change'] = 2\n",
        "   \n",
        "  # no change\n",
        "  if df_20['diff'].loc[idx] < df_std[0].loc[idx] and df_20['diff'].loc[idx] > -df_std[0].loc[idx]:\n",
        "    #print(df_20['diff'].loc[idx], df_std[0].loc[idx], 0)\n",
        "    df_20.loc[idx]['change'] = 0\n"
      ],
      "metadata": {
        "id": "PesXfwzxfEUj"
      },
      "execution_count": null,
      "outputs": []
    },
    {
      "cell_type": "code",
      "source": [
        "increase = df_20[df_20.change == 1]\n"
      ],
      "metadata": {
        "id": "ciOBevfSaN_C"
      },
      "execution_count": null,
      "outputs": []
    },
    {
      "cell_type": "code",
      "source": [
        "np.average(increase['diff'])"
      ],
      "metadata": {
        "colab": {
          "base_uri": "https://localhost:8080/"
        },
        "id": "yv4cQKgTao3-",
        "outputId": "b2c3e303-683b-4cf6-e7af-131b3e1e0989"
      },
      "execution_count": null,
      "outputs": [
        {
          "output_type": "execute_result",
          "data": {
            "text/plain": [
              "136.90653405916953"
            ]
          },
          "metadata": {},
          "execution_count": 28
        }
      ]
    },
    {
      "cell_type": "code",
      "source": [
        "np.unique(df_20.change, return_counts=True)[1]/8871"
      ],
      "metadata": {
        "id": "tF7Rv6WgfEZ0",
        "colab": {
          "base_uri": "https://localhost:8080/"
        },
        "outputId": "e9ab1885-d057-486b-a9b3-03c7cf4be49b"
      },
      "execution_count": null,
      "outputs": [
        {
          "output_type": "execute_result",
          "data": {
            "text/plain": [
              "array([0.36399504, 0.59046331, 0.04554165])"
            ]
          },
          "metadata": {},
          "execution_count": 11
        }
      ]
    },
    {
      "cell_type": "code",
      "source": [
        "np.unique(df_20.change, return_counts=True)"
      ],
      "metadata": {
        "colab": {
          "base_uri": "https://localhost:8080/"
        },
        "id": "9YncP42Fyb7C",
        "outputId": "d6a66d55-46e6-45a2-f127-032e9c571bb3"
      },
      "execution_count": null,
      "outputs": [
        {
          "output_type": "execute_result",
          "data": {
            "text/plain": [
              "(array([0., 1., 2.]), array([3229, 5238,  404]))"
            ]
          },
          "metadata": {},
          "execution_count": 39
        }
      ]
    },
    {
      "cell_type": "code",
      "source": [],
      "metadata": {
        "id": "Kf1JFZZBzYsn"
      },
      "execution_count": null,
      "outputs": []
    },
    {
      "cell_type": "code",
      "execution_count": null,
      "metadata": {
        "id": "6c31Lm4JUmmX"
      },
      "outputs": [],
      "source": [
        "cust = ['SB', 'SD', 'MB', 'MD']\n",
        "values = [[0,1,2,3],[0,1,2,3],[0,1,2,3],[0,1,2,3,4]]\n",
        "replacement = [['high', 'medium', 'super', 'low'], ['low', 'high', 'medium', 'super'],\n",
        "               ['super', 'low', 'medium', 'high'], ['low', 'medium', 'extreme','high',  'super']]\n",
        "\n",
        "all_profiles = pd.DataFrame(index= df_20.index, columns= ['group', 'consumption', 'pattern', 'Y_covid'] )\n"
      ]
    },
    {
      "cell_type": "code",
      "execution_count": null,
      "metadata": {
        "id": "PlIZ-K-4UmmY"
      },
      "outputs": [],
      "source": [
        "for i,_ in enumerate(cust):\n",
        "  df = pd.read_pickle('/content/drive/MyDrive/Stanford-TUBerlin/CodePaper/Clustering/{}_clusters.pdf'.format(cust[i]))\n",
        "  df.avg_consump.replace(values[i], replacement[i], inplace=True)\n",
        "  consumption = df.avg_consump.values\n",
        "  pattern = df.pattern.astype('int').values\n",
        "  for k,l in enumerate(df.index):\n",
        "    all_profiles.loc[l] = cust[i],consumption[k], pattern[k], np.NaN\n",
        "\n",
        "\n"
      ]
    },
    {
      "cell_type": "code",
      "source": [
        "for i in all_profiles.index:\n",
        "  all_profiles.Y_covid.loc[i] = df_20.change.loc[i]"
      ],
      "metadata": {
        "id": "ypg9HISQzYvL"
      },
      "execution_count": null,
      "outputs": []
    },
    {
      "cell_type": "code",
      "source": [
        "down = np.unique(all_profiles.group[all_profiles.Y_covid == 2], return_counts=True)\n",
        "down"
      ],
      "metadata": {
        "colab": {
          "base_uri": "https://localhost:8080/"
        },
        "id": "R90ZQBZQzYyy",
        "outputId": "eb52c1f3-e534-4371-e751-b379957da014"
      },
      "execution_count": null,
      "outputs": [
        {
          "output_type": "execute_result",
          "data": {
            "text/plain": [
              "(array(['MB', 'MD', 'SB', 'SD'], dtype=object), array([ 63,  25, 236,  80]))"
            ]
          },
          "metadata": {},
          "execution_count": 16
        }
      ]
    },
    {
      "cell_type": "code",
      "source": [
        "up = np.unique(all_profiles.group[all_profiles.Y_covid == 1], return_counts=True)\n",
        "up"
      ],
      "metadata": {
        "colab": {
          "base_uri": "https://localhost:8080/"
        },
        "id": "NfX6UeDF0qmP",
        "outputId": "d2ef25a4-b1e0-4c1f-b5fc-d803ca818bbf"
      },
      "execution_count": null,
      "outputs": [
        {
          "output_type": "execute_result",
          "data": {
            "text/plain": [
              "(array(['MB', 'MD', 'SB', 'SD'], dtype=object),\n",
              " array([ 542,   27, 4518,  151]))"
            ]
          },
          "metadata": {},
          "execution_count": 17
        }
      ]
    },
    {
      "cell_type": "code",
      "source": [
        "no = np.unique(all_profiles.group[all_profiles.Y_covid == 0], return_counts=True)\n",
        "no"
      ],
      "metadata": {
        "colab": {
          "base_uri": "https://localhost:8080/"
        },
        "id": "UTTCYGFj0qt6",
        "outputId": "addd7b01-058f-4d89-e4dd-8857b6ae1bcf"
      },
      "execution_count": null,
      "outputs": [
        {
          "output_type": "execute_result",
          "data": {
            "text/plain": [
              "(array(['MB', 'MD', 'SB', 'SD'], dtype=object),\n",
              " array([ 519,   51, 2292,  367]))"
            ]
          },
          "metadata": {},
          "execution_count": 18
        }
      ]
    },
    {
      "cell_type": "code",
      "source": [
        "all = np.unique(all_profiles.group, return_counts=True)\n",
        "all"
      ],
      "metadata": {
        "colab": {
          "base_uri": "https://localhost:8080/"
        },
        "id": "f08eZN1vzY0v",
        "outputId": "91eb5ceb-5294-404c-afc1-e7350f53c5a1"
      },
      "execution_count": null,
      "outputs": [
        {
          "output_type": "execute_result",
          "data": {
            "text/plain": [
              "(array(['MB', 'MD', 'SB', 'SD'], dtype=object),\n",
              " array([1124,  103, 7046,  598]))"
            ]
          },
          "metadata": {},
          "execution_count": 19
        }
      ]
    },
    {
      "cell_type": "code",
      "source": [
        "down[1]/all[1]"
      ],
      "metadata": {
        "colab": {
          "base_uri": "https://localhost:8080/"
        },
        "id": "n1WWh8WmzY22",
        "outputId": "3880f7b4-825e-4c2f-db3a-ab9f1a02ad62"
      },
      "execution_count": null,
      "outputs": [
        {
          "output_type": "execute_result",
          "data": {
            "text/plain": [
              "array([0.05604982, 0.24271845, 0.03349418, 0.13377926])"
            ]
          },
          "metadata": {},
          "execution_count": 20
        }
      ]
    },
    {
      "cell_type": "code",
      "source": [
        "up[1]/all[1]"
      ],
      "metadata": {
        "colab": {
          "base_uri": "https://localhost:8080/"
        },
        "id": "QQf-h_4g0yaG",
        "outputId": "4bd9359a-95a0-4b4f-b860-49ef623988dc"
      },
      "execution_count": null,
      "outputs": [
        {
          "output_type": "execute_result",
          "data": {
            "text/plain": [
              "array([0.48220641, 0.26213592, 0.64121487, 0.25250836])"
            ]
          },
          "metadata": {},
          "execution_count": 21
        }
      ]
    },
    {
      "cell_type": "code",
      "source": [
        "no[1]/all[1]"
      ],
      "metadata": {
        "colab": {
          "base_uri": "https://localhost:8080/"
        },
        "id": "TxT2YSgd0ycz",
        "outputId": "bf1f6db9-70aa-4875-c64c-93dba6272af3"
      },
      "execution_count": null,
      "outputs": [
        {
          "output_type": "execute_result",
          "data": {
            "text/plain": [
              "array([0.46174377, 0.49514563, 0.32529095, 0.61371237])"
            ]
          },
          "metadata": {},
          "execution_count": 22
        }
      ]
    },
    {
      "cell_type": "code",
      "source": [],
      "metadata": {
        "id": "iuTmn1Pp0ye9"
      },
      "execution_count": null,
      "outputs": []
    },
    {
      "cell_type": "code",
      "source": [
        "# load usage data\n",
        "\n",
        "path_1 = '/content/drive/My Drive/Stanford-TUBerlin/Code Marie/MESA_2002_2020_cleaned.csv'\n",
        "\n",
        "data = pd.read_csv(path_1, sep=',', index_col=0)\n",
        "\n",
        "data['date']= pd.to_datetime(data['date'])"
      ],
      "metadata": {
        "id": "xkPhalWF0yhF"
      },
      "execution_count": null,
      "outputs": []
    },
    {
      "cell_type": "code",
      "execution_count": null,
      "metadata": {
        "id": "BD2jpzMjUmma"
      },
      "outputs": [],
      "source": [
        "# get Census Tracts \n",
        "all_profiles['W_LocationID'] =all_profiles.index\n",
        "all_profiles.index.name = None\n",
        "data = data.drop_duplicates(subset='W_LocationID')\n",
        "\n",
        "CT = data[['W_LocationID', 'CensusTract']].merge(all_profiles, on='W_LocationID', how='right')\n",
        "CT_data = [f'{x:.2f}' for x in CT.CensusTract]\n",
        "CT_data = [x.replace('.', '') for x in CT_data]\n",
        "rest = ['0'] *len(CT_data)\n",
        "CT.CensusTract = [i+str(j) for i,j in zip(rest, CT_data)]"
      ]
    },
    {
      "cell_type": "code",
      "execution_count": null,
      "metadata": {
        "id": "vbrzA4YgUmmc"
      },
      "outputs": [],
      "source": [
        "# get Block Group\n",
        "CT_final = data[['W_LocationID', 'BlockGroup']].merge(CT, on='W_LocationID', how='right')\n",
        "CT_data = [f'{x:.3f}' for x in CT_final.BlockGroup]\n",
        "CT_data = [x.replace('.', '') for x in CT_data]\n",
        "rest = ['060590'] *len(CT_data)\n",
        "CT_final.BlockGroup = [i+str(j) for i,j in zip(rest, CT_data)]"
      ]
    },
    {
      "cell_type": "code",
      "execution_count": null,
      "metadata": {
        "colab": {
          "base_uri": "https://localhost:8080/",
          "height": 424
        },
        "id": "Dk8e51rFUmmc",
        "outputId": "8cd61e6f-a8b6-48fb-d32b-a778325f6d06"
      },
      "outputs": [
        {
          "output_type": "execute_result",
          "data": {
            "text/plain": [
              "     W_LocationID         GEOID TRACTCE group consumption pattern Y_covid\n",
              "0         MW10019  060590636052  063605    SB      medium       2     1.0\n",
              "1         MW10020  060590636052  063605    SB        high       3     0.0\n",
              "2         MW10027  060590636052  063605    SB        high       3     1.0\n",
              "3         MW10028  060590636052  063605    SB         low       3     0.0\n",
              "4         MW10031  060590636052  063605    SB      medium       4     1.0\n",
              "...           ...           ...     ...   ...         ...     ...     ...\n",
              "8866       MW9571  060590639071  063907    MD         low       2     1.0\n",
              "8867       MW9572  060590639071  063907    MD         low       2     2.0\n",
              "8868       MW9574  060590639071  063907    MD         low       2     2.0\n",
              "8869       MW9576  060590639071  063907    MD         low       2     2.0\n",
              "8870       MW9578  060590639071  063907    MD         low       2     1.0\n",
              "\n",
              "[8871 rows x 7 columns]"
            ],
            "text/html": [
              "\n",
              "  <div id=\"df-356e19ce-d20a-4852-b195-5317b7ffa424\">\n",
              "    <div class=\"colab-df-container\">\n",
              "      <div>\n",
              "<style scoped>\n",
              "    .dataframe tbody tr th:only-of-type {\n",
              "        vertical-align: middle;\n",
              "    }\n",
              "\n",
              "    .dataframe tbody tr th {\n",
              "        vertical-align: top;\n",
              "    }\n",
              "\n",
              "    .dataframe thead th {\n",
              "        text-align: right;\n",
              "    }\n",
              "</style>\n",
              "<table border=\"1\" class=\"dataframe\">\n",
              "  <thead>\n",
              "    <tr style=\"text-align: right;\">\n",
              "      <th></th>\n",
              "      <th>W_LocationID</th>\n",
              "      <th>GEOID</th>\n",
              "      <th>TRACTCE</th>\n",
              "      <th>group</th>\n",
              "      <th>consumption</th>\n",
              "      <th>pattern</th>\n",
              "      <th>Y_covid</th>\n",
              "    </tr>\n",
              "  </thead>\n",
              "  <tbody>\n",
              "    <tr>\n",
              "      <th>0</th>\n",
              "      <td>MW10019</td>\n",
              "      <td>060590636052</td>\n",
              "      <td>063605</td>\n",
              "      <td>SB</td>\n",
              "      <td>medium</td>\n",
              "      <td>2</td>\n",
              "      <td>1.0</td>\n",
              "    </tr>\n",
              "    <tr>\n",
              "      <th>1</th>\n",
              "      <td>MW10020</td>\n",
              "      <td>060590636052</td>\n",
              "      <td>063605</td>\n",
              "      <td>SB</td>\n",
              "      <td>high</td>\n",
              "      <td>3</td>\n",
              "      <td>0.0</td>\n",
              "    </tr>\n",
              "    <tr>\n",
              "      <th>2</th>\n",
              "      <td>MW10027</td>\n",
              "      <td>060590636052</td>\n",
              "      <td>063605</td>\n",
              "      <td>SB</td>\n",
              "      <td>high</td>\n",
              "      <td>3</td>\n",
              "      <td>1.0</td>\n",
              "    </tr>\n",
              "    <tr>\n",
              "      <th>3</th>\n",
              "      <td>MW10028</td>\n",
              "      <td>060590636052</td>\n",
              "      <td>063605</td>\n",
              "      <td>SB</td>\n",
              "      <td>low</td>\n",
              "      <td>3</td>\n",
              "      <td>0.0</td>\n",
              "    </tr>\n",
              "    <tr>\n",
              "      <th>4</th>\n",
              "      <td>MW10031</td>\n",
              "      <td>060590636052</td>\n",
              "      <td>063605</td>\n",
              "      <td>SB</td>\n",
              "      <td>medium</td>\n",
              "      <td>4</td>\n",
              "      <td>1.0</td>\n",
              "    </tr>\n",
              "    <tr>\n",
              "      <th>...</th>\n",
              "      <td>...</td>\n",
              "      <td>...</td>\n",
              "      <td>...</td>\n",
              "      <td>...</td>\n",
              "      <td>...</td>\n",
              "      <td>...</td>\n",
              "      <td>...</td>\n",
              "    </tr>\n",
              "    <tr>\n",
              "      <th>8866</th>\n",
              "      <td>MW9571</td>\n",
              "      <td>060590639071</td>\n",
              "      <td>063907</td>\n",
              "      <td>MD</td>\n",
              "      <td>low</td>\n",
              "      <td>2</td>\n",
              "      <td>1.0</td>\n",
              "    </tr>\n",
              "    <tr>\n",
              "      <th>8867</th>\n",
              "      <td>MW9572</td>\n",
              "      <td>060590639071</td>\n",
              "      <td>063907</td>\n",
              "      <td>MD</td>\n",
              "      <td>low</td>\n",
              "      <td>2</td>\n",
              "      <td>2.0</td>\n",
              "    </tr>\n",
              "    <tr>\n",
              "      <th>8868</th>\n",
              "      <td>MW9574</td>\n",
              "      <td>060590639071</td>\n",
              "      <td>063907</td>\n",
              "      <td>MD</td>\n",
              "      <td>low</td>\n",
              "      <td>2</td>\n",
              "      <td>2.0</td>\n",
              "    </tr>\n",
              "    <tr>\n",
              "      <th>8869</th>\n",
              "      <td>MW9576</td>\n",
              "      <td>060590639071</td>\n",
              "      <td>063907</td>\n",
              "      <td>MD</td>\n",
              "      <td>low</td>\n",
              "      <td>2</td>\n",
              "      <td>2.0</td>\n",
              "    </tr>\n",
              "    <tr>\n",
              "      <th>8870</th>\n",
              "      <td>MW9578</td>\n",
              "      <td>060590639071</td>\n",
              "      <td>063907</td>\n",
              "      <td>MD</td>\n",
              "      <td>low</td>\n",
              "      <td>2</td>\n",
              "      <td>1.0</td>\n",
              "    </tr>\n",
              "  </tbody>\n",
              "</table>\n",
              "<p>8871 rows × 7 columns</p>\n",
              "</div>\n",
              "      <button class=\"colab-df-convert\" onclick=\"convertToInteractive('df-356e19ce-d20a-4852-b195-5317b7ffa424')\"\n",
              "              title=\"Convert this dataframe to an interactive table.\"\n",
              "              style=\"display:none;\">\n",
              "        \n",
              "  <svg xmlns=\"http://www.w3.org/2000/svg\" height=\"24px\"viewBox=\"0 0 24 24\"\n",
              "       width=\"24px\">\n",
              "    <path d=\"M0 0h24v24H0V0z\" fill=\"none\"/>\n",
              "    <path d=\"M18.56 5.44l.94 2.06.94-2.06 2.06-.94-2.06-.94-.94-2.06-.94 2.06-2.06.94zm-11 1L8.5 8.5l.94-2.06 2.06-.94-2.06-.94L8.5 2.5l-.94 2.06-2.06.94zm10 10l.94 2.06.94-2.06 2.06-.94-2.06-.94-.94-2.06-.94 2.06-2.06.94z\"/><path d=\"M17.41 7.96l-1.37-1.37c-.4-.4-.92-.59-1.43-.59-.52 0-1.04.2-1.43.59L10.3 9.45l-7.72 7.72c-.78.78-.78 2.05 0 2.83L4 21.41c.39.39.9.59 1.41.59.51 0 1.02-.2 1.41-.59l7.78-7.78 2.81-2.81c.8-.78.8-2.07 0-2.86zM5.41 20L4 18.59l7.72-7.72 1.47 1.35L5.41 20z\"/>\n",
              "  </svg>\n",
              "      </button>\n",
              "      \n",
              "  <style>\n",
              "    .colab-df-container {\n",
              "      display:flex;\n",
              "      flex-wrap:wrap;\n",
              "      gap: 12px;\n",
              "    }\n",
              "\n",
              "    .colab-df-convert {\n",
              "      background-color: #E8F0FE;\n",
              "      border: none;\n",
              "      border-radius: 50%;\n",
              "      cursor: pointer;\n",
              "      display: none;\n",
              "      fill: #1967D2;\n",
              "      height: 32px;\n",
              "      padding: 0 0 0 0;\n",
              "      width: 32px;\n",
              "    }\n",
              "\n",
              "    .colab-df-convert:hover {\n",
              "      background-color: #E2EBFA;\n",
              "      box-shadow: 0px 1px 2px rgba(60, 64, 67, 0.3), 0px 1px 3px 1px rgba(60, 64, 67, 0.15);\n",
              "      fill: #174EA6;\n",
              "    }\n",
              "\n",
              "    [theme=dark] .colab-df-convert {\n",
              "      background-color: #3B4455;\n",
              "      fill: #D2E3FC;\n",
              "    }\n",
              "\n",
              "    [theme=dark] .colab-df-convert:hover {\n",
              "      background-color: #434B5C;\n",
              "      box-shadow: 0px 1px 3px 1px rgba(0, 0, 0, 0.15);\n",
              "      filter: drop-shadow(0px 1px 2px rgba(0, 0, 0, 0.3));\n",
              "      fill: #FFFFFF;\n",
              "    }\n",
              "  </style>\n",
              "\n",
              "      <script>\n",
              "        const buttonEl =\n",
              "          document.querySelector('#df-356e19ce-d20a-4852-b195-5317b7ffa424 button.colab-df-convert');\n",
              "        buttonEl.style.display =\n",
              "          google.colab.kernel.accessAllowed ? 'block' : 'none';\n",
              "\n",
              "        async function convertToInteractive(key) {\n",
              "          const element = document.querySelector('#df-356e19ce-d20a-4852-b195-5317b7ffa424');\n",
              "          const dataTable =\n",
              "            await google.colab.kernel.invokeFunction('convertToInteractive',\n",
              "                                                     [key], {});\n",
              "          if (!dataTable) return;\n",
              "\n",
              "          const docLinkHtml = 'Like what you see? Visit the ' +\n",
              "            '<a target=\"_blank\" href=https://colab.research.google.com/notebooks/data_table.ipynb>data table notebook</a>'\n",
              "            + ' to learn more about interactive tables.';\n",
              "          element.innerHTML = '';\n",
              "          dataTable['output_type'] = 'display_data';\n",
              "          await google.colab.output.renderOutput(dataTable, element);\n",
              "          const docLink = document.createElement('div');\n",
              "          docLink.innerHTML = docLinkHtml;\n",
              "          element.appendChild(docLink);\n",
              "        }\n",
              "      </script>\n",
              "    </div>\n",
              "  </div>\n",
              "  "
            ]
          },
          "metadata": {},
          "execution_count": 29
        }
      ],
      "source": [
        "CT_final.rename(columns={'CensusTract': 'TRACTCE', 'BlockGroup': 'GEOID'}, inplace= True)\n",
        "CT_final"
      ]
    },
    {
      "cell_type": "code",
      "execution_count": null,
      "metadata": {
        "id": "-Uy2gGAAUmmc"
      },
      "outputs": [],
      "source": [
        "# correct wrong BG numbers\n",
        "wrong_BG =['060590639064', '060590638073', '060590638074', '060590639044', '060590632014', '060590636043']\n",
        "new_BG = ['060590639063', '060590638072', '060590638072', '060590639043', '060590632013', '060590636042']\n",
        "\n",
        "CT_final.GEOID.replace(wrong_BG, new_BG, inplace=True)"
      ]
    },
    {
      "cell_type": "code",
      "execution_count": null,
      "metadata": {
        "id": "9_3rt4AHUmmc"
      },
      "outputs": [],
      "source": [
        "block_feat = pd.read_pickle('/content/drive/MyDrive/Stanford-TUBerlin/Code Marie/ClusterChange_multiBaseline/GIS plots/Features_SocioDemo')"
      ]
    },
    {
      "cell_type": "code",
      "execution_count": null,
      "metadata": {
        "id": "icDIviOoUmmd"
      },
      "outputs": [],
      "source": [
        "block_feat.rename(columns={'Total':'totHH'}, inplace=True)"
      ]
    },
    {
      "cell_type": "code",
      "execution_count": null,
      "metadata": {
        "id": "zlil6OkAV5GW"
      },
      "outputs": [],
      "source": [
        "merger = block_feat.merge(CT_final, on='GEOID', how='right')"
      ]
    },
    {
      "cell_type": "code",
      "execution_count": null,
      "metadata": {
        "id": "0WbPMNL0Ummd"
      },
      "outputs": [],
      "source": [
        "merger.replace(['-'], ['NaN'], inplace=True)"
      ]
    },
    {
      "cell_type": "code",
      "execution_count": null,
      "metadata": {
        "id": "0A__p3zPUmme"
      },
      "outputs": [],
      "source": [
        "merger.drop(columns=['GEOID', 'TRACTCE', 'W_LocationID'], inplace=True) #"
      ]
    },
    {
      "cell_type": "code",
      "execution_count": null,
      "metadata": {
        "colab": {
          "base_uri": "https://localhost:8080/"
        },
        "id": "4jkJK4v5Vs4o",
        "outputId": "cad847cb-ce66-4d30-dab8-0626fc1b7597"
      },
      "outputs": [
        {
          "output_type": "execute_result",
          "data": {
            "text/plain": [
              "(array([0., 1., 2.]), array([3229, 5238,  404]))"
            ]
          },
          "metadata": {},
          "execution_count": 36
        }
      ],
      "source": [
        "np.unique(merger.Y_covid, return_counts=True)"
      ]
    },
    {
      "cell_type": "code",
      "execution_count": null,
      "metadata": {
        "id": "o3pzptjkUmme"
      },
      "outputs": [],
      "source": [
        "merger.to_pickle('/content/drive/MyDrive/Stanford-TUBerlin/CodePaper/COVID_analysis/FeatureMatrix_COVID')"
      ]
    },
    {
      "cell_type": "code",
      "source": [],
      "metadata": {
        "id": "TE4Wdlz3eizN"
      },
      "execution_count": null,
      "outputs": []
    },
    {
      "cell_type": "code",
      "source": [],
      "metadata": {
        "id": "8vkqFw3Cei1b"
      },
      "execution_count": null,
      "outputs": []
    },
    {
      "cell_type": "code",
      "source": [],
      "metadata": {
        "id": "tHsMrKTuXUCv"
      },
      "execution_count": null,
      "outputs": []
    }
  ]
}