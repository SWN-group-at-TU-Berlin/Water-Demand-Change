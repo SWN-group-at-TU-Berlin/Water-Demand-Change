{
  "cells": [
    {
      "cell_type": "code",
      "execution_count": null,
      "metadata": {
        "colab": {
          "base_uri": "https://localhost:8080/"
        },
        "id": "u9bmQHUCIspT",
        "outputId": "17d08f0b-dbcd-41dc-fd61-e89e9ccbd649"
      },
      "outputs": [
        {
          "output_type": "stream",
          "name": "stdout",
          "text": [
            "Mounted at /content/drive/\n"
          ]
        }
      ],
      "source": [
        "from google.colab import drive\n",
        "drive.mount('/content/drive/')"
      ]
    },
    {
      "cell_type": "code",
      "execution_count": null,
      "metadata": {
        "id": "dp1qnwcQIxA-"
      },
      "outputs": [],
      "source": [
        "import numpy as np\n",
        "import pandas as pd\n",
        "import matplotlib.pyplot as plt\n",
        "from datetime import datetime, timedelta\n",
        "\n",
        "from scipy.ndimage.filters import gaussian_filter1d\n"
      ]
    },
    {
      "cell_type": "markdown",
      "metadata": {
        "id": "J9DGmZEvJQzx"
      },
      "source": [
        "\n",
        "\n",
        "global pattern groups"
      ]
    },
    {
      "cell_type": "code",
      "execution_count": null,
      "metadata": {
        "id": "uW-xP_xUGhR-"
      },
      "outputs": [],
      "source": [
        "# longterm decrease\n",
        "pattern_0 = [('SB','low', 2), ('SB', 'medium', 4), ('SB', 'high', 3),('SB', 'super', 0), ('SD', 'low', 3), ('SD', 'medium', 0),\n",
        "             ('SD','high', 1), ('SD', 'super', 0), ('MB', 'low', 1),('MB', 'medium', 2), ('MB', 'high', 1), ('MB', 'super', 0),\n",
        "             ('MD','low', 2), ('MD', 'medium', 3), ('MD', 'high', 1),('MD', 'super', 0), ('MD', 'extreme', 0)]\n",
        "\n",
        "# drought lonterm decrease + COVID increase\n",
        "pattern_1 = [('SB','low', 1), ('SB', 'medium', 2), ('SB', 'high', 0),('SD', 'low', 0), ('SD', 'medium', 3)]\n",
        "\n",
        "# longterm increase\n",
        "pattern_2 = [('SB','low', 3), ('SB', 'medium', 3), ('SB', 'super', 3),('SD', 'low', 2), ('SD', 'medium', 1), ('SD', 'high', 0),\n",
        "             ('MB','low', 0)]\n",
        "\n",
        "# recession decrease + rebound\n",
        "pattern_3 = [('SB','low', 0), ('SB', 'medium', 0), ('SB', 'high', 2), ('SD', 'low', 1), ('MB', 'low', 2)]\n",
        "\n",
        "# drought rebound\n",
        "pattern_4 = [('SB','high', 4), ('SB','high', 1), ('SB','super', 1), ('MB','medium', 1)]\n",
        "\n",
        "# decrease recession + rebound after drought\n",
        "pattern_5 = [('SB','medium', 1), ('MB','low', 3)]\n",
        "\n",
        "# decrease after recession\n",
        "pattern_6 = [('SB','super', 2), ('SD','high', 2), ('MD','medium', 1)]"
      ]
    },
    {
      "cell_type": "markdown",
      "metadata": {
        "id": "ZFijgp7pmxVV"
      },
      "source": [
        "COVID patterns"
      ]
    },
    {
      "cell_type": "code",
      "execution_count": null,
      "metadata": {
        "id": "IQfqsQY7m3K_"
      },
      "outputs": [],
      "source": [
        "covid_up = [('SB', 'low', 1), ('SB', 'medium', 2), ('SB', 'high', 4),('SB', 'high', 1),('SB', 'high', 0),('SB', 'super', 2),('SB', 'super', 3), ('SD', 'low', 0),\n",
        "            ('SD', 'low', 3), ('SD', 'medium', 1), ('SD', 'medium', 3), ('SD','high', 2), ('SD', 'super', 0), ('SD', 'super', 1),\n",
        "            ('MB', 'low', 0), ('MB', 'medium', 1), ('MD','low', 0), ('MD','low', 2), ('MD', 'medium', 2),  ('MD', 'extreme', 0)]\n",
        "\n",
        "\n",
        "covid_down = [('SB', 'low', 0), ('SB', 'medium', 0),  ('SB', 'medium', 1), ('SB', 'high', 2),('SB', 'super', 1), \n",
        "              ('SD', 'low', 1), ('SD', 'low', 2), ('SD', 'medium', 2), ('SD', 'medium', 4), ('SD','high', 0), ('MB', 'low', 2), ('MB', 'low', 3), \n",
        "              ('MB', 'medium', 0),('MB', 'high', 0), ('MD','low', 1), ('MD','high', 0), ('MD', 'high', 1),  ('MD', 'super', 0)]\n",
        "\n",
        "covid_no = [('SB', 'low', 2), ('SB', 'low', 3), ('SB', 'medium', 3),  ('SB', 'medium', 4), ('SB', 'high', 3),\n",
        "            ('SB', 'super', 0),('SD', 'medium', 0), ('SD','high', 1), ('MB', 'low', 1),('MB', 'medium', 2),\n",
        "            ('MB', 'high', 1), ('MB', 'super', 0), ('MD','medium', 0), ('MD','medium', 1), ('MD', 'medium', 3)]"
      ]
    },
    {
      "cell_type": "code",
      "execution_count": null,
      "metadata": {
        "id": "HuE0dQLGWc0k"
      },
      "outputs": [],
      "source": []
    },
    {
      "cell_type": "markdown",
      "metadata": {
        "id": "SGkHJeVwj2wq"
      },
      "source": [
        "# assign each customer their corresponding global pattern"
      ]
    },
    {
      "cell_type": "code",
      "execution_count": null,
      "metadata": {
        "id": "KXFsqMneTXoa"
      },
      "outputs": [],
      "source": [
        "# load usage data\n",
        "\n",
        "path_1 = '/content/drive/My Drive/Stanford-TUBerlin/Code Marie/MESA_2002_2020_cleaned.csv'\n",
        "\n",
        "data = pd.read_csv(path_1, sep=',', index_col=0)\n",
        "\n",
        "data['date']= pd.to_datetime(data['date'])"
      ]
    },
    {
      "cell_type": "code",
      "execution_count": null,
      "metadata": {
        "id": "Osj_ykA2OBU7"
      },
      "outputs": [],
      "source": [
        "cust = ['SB', 'SD', 'MB', 'MD']\n",
        "values = [[0,1,2,3],[0,1,2,3],[0,1,2,3],[0,1,2,3,4]]\n",
        "replacement = [['high', 'medium', 'super', 'low'], ['low', 'high', 'medium', 'super'],\n",
        "               ['super', 'low', 'medium', 'high'], ['low', 'medium', 'extreme','high',  'super']]\n",
        "\n",
        "all_profiles = pd.DataFrame(index= data['W_LocationID'].unique(), columns= ['group', 'consumption', 'pattern', 'Y'] )\n"
      ]
    },
    {
      "cell_type": "code",
      "execution_count": null,
      "metadata": {
        "id": "6BJdUR__UqjS"
      },
      "outputs": [],
      "source": []
    },
    {
      "cell_type": "code",
      "execution_count": null,
      "metadata": {
        "id": "jPQZSvQMUb0i"
      },
      "outputs": [],
      "source": [
        "for i,_ in enumerate(cust):\n",
        "  df = pd.read_pickle('/content/drive/MyDrive/Stanford-TUBerlin/CodePaper/Clustering/{}_clusters.pdf'.format(cust[i]))\n",
        "  df.avg_consump.replace(values[i], replacement[i], inplace=True)\n",
        "  consumption = df.avg_consump.values\n",
        "  pattern = df.pattern.astype('int').values\n",
        "  for k,l in enumerate(df.index):\n",
        "    all_profiles.loc[l] = cust[i],consumption[k], pattern[k], np.NaN\n",
        "\n",
        "\n"
      ]
    },
    {
      "cell_type": "code",
      "execution_count": null,
      "metadata": {
        "id": "GbMGUIBzT88j"
      },
      "outputs": [],
      "source": [
        "for idx, val in enumerate(pattern_0):\n",
        "  x = all_profiles.loc[(all_profiles.group == val[0]) & (all_profiles.consumption == val[1]) & (all_profiles.pattern == val[2])]\n",
        "  all_profiles.Y.loc[x.index] = 0\n",
        "\n",
        "for idx, val in enumerate(pattern_1):\n",
        "  x = all_profiles.loc[(all_profiles.group == val[0]) & (all_profiles.consumption == val[1]) & (all_profiles.pattern == val[2])]\n",
        "  all_profiles.Y.loc[x.index] = 1\n",
        "\n",
        "for idx, val in enumerate(pattern_2):\n",
        "  x = all_profiles.loc[(all_profiles.group == val[0]) & (all_profiles.consumption == val[1]) & (all_profiles.pattern == val[2])]\n",
        "  all_profiles.Y.loc[x.index] = 2\n",
        "\n",
        "for idx, val in enumerate(pattern_3):\n",
        "  x = all_profiles.loc[(all_profiles.group == val[0]) & (all_profiles.consumption == val[1]) & (all_profiles.pattern == val[2])]\n",
        "  all_profiles.Y.loc[x.index] = 3\n",
        "\n",
        "for idx, val in enumerate(pattern_4):\n",
        "  x = all_profiles.loc[(all_profiles.group == val[0]) & (all_profiles.consumption == val[1]) & (all_profiles.pattern == val[2])]\n",
        "  all_profiles.Y.loc[x.index] = 4\n",
        "\n",
        "for idx, val in enumerate(pattern_5):\n",
        "  x = all_profiles.loc[(all_profiles.group == val[0]) & (all_profiles.consumption == val[1]) & (all_profiles.pattern == val[2])]\n",
        "  all_profiles.Y.loc[x.index] = 5\n",
        "\n",
        "for idx, val in enumerate(pattern_6):\n",
        "  x = all_profiles.loc[(all_profiles.group == val[0]) & (all_profiles.consumption == val[1]) & (all_profiles.pattern == val[2])]\n",
        "  all_profiles.Y.loc[x.index] = 6\n",
        "\n",
        "# ungrouped patterns will be group 7\n",
        "all_profiles.Y.fillna(7, inplace=True)"
      ]
    },
    {
      "cell_type": "code",
      "source": [
        "np.unique(all_profiles.Y, return_counts=True)"
      ],
      "metadata": {
        "colab": {
          "base_uri": "https://localhost:8080/"
        },
        "id": "86b5mWiXW0nL",
        "outputId": "1d1c60f0-1a85-4a52-e5c1-82ad1018574e"
      },
      "execution_count": null,
      "outputs": [
        {
          "output_type": "execute_result",
          "data": {
            "text/plain": [
              "(array([0, 1, 2, 3, 4, 5, 6, 7]),\n",
              " array([5263, 1445,  820,  592,  327,  308,   54,   62]))"
            ]
          },
          "metadata": {},
          "execution_count": 18
        }
      ]
    },
    {
      "cell_type": "code",
      "source": [
        "all_profiles"
      ],
      "metadata": {
        "colab": {
          "base_uri": "https://localhost:8080/",
          "height": 424
        },
        "id": "3To6os5qYRND",
        "outputId": "5ff1ec5f-624b-4191-eda6-02db40fb249a"
      },
      "execution_count": null,
      "outputs": [
        {
          "output_type": "execute_result",
          "data": {
            "text/plain": [
              "        group consumption pattern  Y\n",
              "MW10002    MB         low       1  0\n",
              "MW10003    MB         low       1  0\n",
              "MW10006    MB         low       1  0\n",
              "MW10007    MB         low       1  0\n",
              "MW10008    MB         low       1  0\n",
              "...       ...         ...     ... ..\n",
              "MW9991     MB      medium       0  7\n",
              "MW9992     MB      medium       2  0\n",
              "MW9993     MB      medium       2  0\n",
              "MW9996     SB      medium       4  0\n",
              "MW9999     SB        high       0  4\n",
              "\n",
              "[8871 rows x 4 columns]"
            ],
            "text/html": [
              "\n",
              "  <div id=\"df-dd99657c-c9c1-4b32-bae0-dce7f3d10570\">\n",
              "    <div class=\"colab-df-container\">\n",
              "      <div>\n",
              "<style scoped>\n",
              "    .dataframe tbody tr th:only-of-type {\n",
              "        vertical-align: middle;\n",
              "    }\n",
              "\n",
              "    .dataframe tbody tr th {\n",
              "        vertical-align: top;\n",
              "    }\n",
              "\n",
              "    .dataframe thead th {\n",
              "        text-align: right;\n",
              "    }\n",
              "</style>\n",
              "<table border=\"1\" class=\"dataframe\">\n",
              "  <thead>\n",
              "    <tr style=\"text-align: right;\">\n",
              "      <th></th>\n",
              "      <th>group</th>\n",
              "      <th>consumption</th>\n",
              "      <th>pattern</th>\n",
              "      <th>Y</th>\n",
              "    </tr>\n",
              "  </thead>\n",
              "  <tbody>\n",
              "    <tr>\n",
              "      <th>MW10002</th>\n",
              "      <td>MB</td>\n",
              "      <td>low</td>\n",
              "      <td>1</td>\n",
              "      <td>0</td>\n",
              "    </tr>\n",
              "    <tr>\n",
              "      <th>MW10003</th>\n",
              "      <td>MB</td>\n",
              "      <td>low</td>\n",
              "      <td>1</td>\n",
              "      <td>0</td>\n",
              "    </tr>\n",
              "    <tr>\n",
              "      <th>MW10006</th>\n",
              "      <td>MB</td>\n",
              "      <td>low</td>\n",
              "      <td>1</td>\n",
              "      <td>0</td>\n",
              "    </tr>\n",
              "    <tr>\n",
              "      <th>MW10007</th>\n",
              "      <td>MB</td>\n",
              "      <td>low</td>\n",
              "      <td>1</td>\n",
              "      <td>0</td>\n",
              "    </tr>\n",
              "    <tr>\n",
              "      <th>MW10008</th>\n",
              "      <td>MB</td>\n",
              "      <td>low</td>\n",
              "      <td>1</td>\n",
              "      <td>0</td>\n",
              "    </tr>\n",
              "    <tr>\n",
              "      <th>...</th>\n",
              "      <td>...</td>\n",
              "      <td>...</td>\n",
              "      <td>...</td>\n",
              "      <td>...</td>\n",
              "    </tr>\n",
              "    <tr>\n",
              "      <th>MW9991</th>\n",
              "      <td>MB</td>\n",
              "      <td>medium</td>\n",
              "      <td>0</td>\n",
              "      <td>7</td>\n",
              "    </tr>\n",
              "    <tr>\n",
              "      <th>MW9992</th>\n",
              "      <td>MB</td>\n",
              "      <td>medium</td>\n",
              "      <td>2</td>\n",
              "      <td>0</td>\n",
              "    </tr>\n",
              "    <tr>\n",
              "      <th>MW9993</th>\n",
              "      <td>MB</td>\n",
              "      <td>medium</td>\n",
              "      <td>2</td>\n",
              "      <td>0</td>\n",
              "    </tr>\n",
              "    <tr>\n",
              "      <th>MW9996</th>\n",
              "      <td>SB</td>\n",
              "      <td>medium</td>\n",
              "      <td>4</td>\n",
              "      <td>0</td>\n",
              "    </tr>\n",
              "    <tr>\n",
              "      <th>MW9999</th>\n",
              "      <td>SB</td>\n",
              "      <td>high</td>\n",
              "      <td>0</td>\n",
              "      <td>4</td>\n",
              "    </tr>\n",
              "  </tbody>\n",
              "</table>\n",
              "<p>8871 rows × 4 columns</p>\n",
              "</div>\n",
              "      <button class=\"colab-df-convert\" onclick=\"convertToInteractive('df-dd99657c-c9c1-4b32-bae0-dce7f3d10570')\"\n",
              "              title=\"Convert this dataframe to an interactive table.\"\n",
              "              style=\"display:none;\">\n",
              "        \n",
              "  <svg xmlns=\"http://www.w3.org/2000/svg\" height=\"24px\"viewBox=\"0 0 24 24\"\n",
              "       width=\"24px\">\n",
              "    <path d=\"M0 0h24v24H0V0z\" fill=\"none\"/>\n",
              "    <path d=\"M18.56 5.44l.94 2.06.94-2.06 2.06-.94-2.06-.94-.94-2.06-.94 2.06-2.06.94zm-11 1L8.5 8.5l.94-2.06 2.06-.94-2.06-.94L8.5 2.5l-.94 2.06-2.06.94zm10 10l.94 2.06.94-2.06 2.06-.94-2.06-.94-.94-2.06-.94 2.06-2.06.94z\"/><path d=\"M17.41 7.96l-1.37-1.37c-.4-.4-.92-.59-1.43-.59-.52 0-1.04.2-1.43.59L10.3 9.45l-7.72 7.72c-.78.78-.78 2.05 0 2.83L4 21.41c.39.39.9.59 1.41.59.51 0 1.02-.2 1.41-.59l7.78-7.78 2.81-2.81c.8-.78.8-2.07 0-2.86zM5.41 20L4 18.59l7.72-7.72 1.47 1.35L5.41 20z\"/>\n",
              "  </svg>\n",
              "      </button>\n",
              "      \n",
              "  <style>\n",
              "    .colab-df-container {\n",
              "      display:flex;\n",
              "      flex-wrap:wrap;\n",
              "      gap: 12px;\n",
              "    }\n",
              "\n",
              "    .colab-df-convert {\n",
              "      background-color: #E8F0FE;\n",
              "      border: none;\n",
              "      border-radius: 50%;\n",
              "      cursor: pointer;\n",
              "      display: none;\n",
              "      fill: #1967D2;\n",
              "      height: 32px;\n",
              "      padding: 0 0 0 0;\n",
              "      width: 32px;\n",
              "    }\n",
              "\n",
              "    .colab-df-convert:hover {\n",
              "      background-color: #E2EBFA;\n",
              "      box-shadow: 0px 1px 2px rgba(60, 64, 67, 0.3), 0px 1px 3px 1px rgba(60, 64, 67, 0.15);\n",
              "      fill: #174EA6;\n",
              "    }\n",
              "\n",
              "    [theme=dark] .colab-df-convert {\n",
              "      background-color: #3B4455;\n",
              "      fill: #D2E3FC;\n",
              "    }\n",
              "\n",
              "    [theme=dark] .colab-df-convert:hover {\n",
              "      background-color: #434B5C;\n",
              "      box-shadow: 0px 1px 3px 1px rgba(0, 0, 0, 0.15);\n",
              "      filter: drop-shadow(0px 1px 2px rgba(0, 0, 0, 0.3));\n",
              "      fill: #FFFFFF;\n",
              "    }\n",
              "  </style>\n",
              "\n",
              "      <script>\n",
              "        const buttonEl =\n",
              "          document.querySelector('#df-dd99657c-c9c1-4b32-bae0-dce7f3d10570 button.colab-df-convert');\n",
              "        buttonEl.style.display =\n",
              "          google.colab.kernel.accessAllowed ? 'block' : 'none';\n",
              "\n",
              "        async function convertToInteractive(key) {\n",
              "          const element = document.querySelector('#df-dd99657c-c9c1-4b32-bae0-dce7f3d10570');\n",
              "          const dataTable =\n",
              "            await google.colab.kernel.invokeFunction('convertToInteractive',\n",
              "                                                     [key], {});\n",
              "          if (!dataTable) return;\n",
              "\n",
              "          const docLinkHtml = 'Like what you see? Visit the ' +\n",
              "            '<a target=\"_blank\" href=https://colab.research.google.com/notebooks/data_table.ipynb>data table notebook</a>'\n",
              "            + ' to learn more about interactive tables.';\n",
              "          element.innerHTML = '';\n",
              "          dataTable['output_type'] = 'display_data';\n",
              "          await google.colab.output.renderOutput(dataTable, element);\n",
              "          const docLink = document.createElement('div');\n",
              "          docLink.innerHTML = docLinkHtml;\n",
              "          element.appendChild(docLink);\n",
              "        }\n",
              "      </script>\n",
              "    </div>\n",
              "  </div>\n",
              "  "
            ]
          },
          "metadata": {},
          "execution_count": 13
        }
      ]
    },
    {
      "cell_type": "markdown",
      "metadata": {
        "id": "fmBXCnmTj-tY"
      },
      "source": [
        "merge with features"
      ]
    },
    {
      "cell_type": "code",
      "execution_count": null,
      "metadata": {
        "id": "qjLKjxWZr6ZN"
      },
      "outputs": [],
      "source": [
        "# get Census Tracts \n",
        "all_profiles['W_LocationID'] =all_profiles.index\n",
        "data = data.drop_duplicates(subset='W_LocationID')\n",
        "\n",
        "CT = data[['W_LocationID', 'CensusTract']].merge(all_profiles, on='W_LocationID', how='right')\n",
        "CT_data = [f'{x:.2f}' for x in CT.CensusTract]\n",
        "CT_data = [x.replace('.', '') for x in CT_data]\n",
        "rest = ['0'] *len(CT_data)\n",
        "CT.CensusTract = [i+str(j) for i,j in zip(rest, CT_data)]"
      ]
    },
    {
      "cell_type": "code",
      "execution_count": null,
      "metadata": {
        "id": "94KHzMgOtUp1"
      },
      "outputs": [],
      "source": [
        "# get Block Group\n",
        "CT_final = data[['W_LocationID', 'BlockGroup']].merge(CT, on='W_LocationID', how='right')\n",
        "CT_data = [f'{x:.3f}' for x in CT_final.BlockGroup]\n",
        "CT_data = [x.replace('.', '') for x in CT_data]\n",
        "rest = ['060590'] *len(CT_data)\n",
        "CT_final.BlockGroup = [i+str(j) for i,j in zip(rest, CT_data)]"
      ]
    },
    {
      "cell_type": "code",
      "execution_count": null,
      "metadata": {
        "colab": {
          "base_uri": "https://localhost:8080/",
          "height": 424
        },
        "id": "2mGaY3ZKt-qM",
        "outputId": "e8407bac-a63a-4cff-f72b-360533557b48"
      },
      "outputs": [
        {
          "output_type": "execute_result",
          "data": {
            "text/plain": [
              "     W_LocationID         GEOID TRACTCE group consumption pattern  Y\n",
              "0         MW10002  060590636052  063605    MB         low       1  0\n",
              "1         MW10003  060590636052  063605    MB         low       1  0\n",
              "2         MW10006  060590636052  063605    MB         low       1  0\n",
              "3         MW10007  060590636052  063605    MB         low       1  0\n",
              "4         MW10008  060590636052  063605    MB         low       1  0\n",
              "...           ...           ...     ...   ...         ...     ... ..\n",
              "8866       MW9991  060590636051  063605    MB      medium       0  7\n",
              "8867       MW9992  060590636051  063605    MB      medium       2  0\n",
              "8868       MW9993  060590636051  063605    MB      medium       2  0\n",
              "8869       MW9996  060590636051  063605    SB      medium       4  0\n",
              "8870       MW9999  060590636051  063605    SB        high       0  1\n",
              "\n",
              "[8871 rows x 7 columns]"
            ],
            "text/html": [
              "\n",
              "  <div id=\"df-a7ea46f7-fb3d-4bfd-9335-904fa220b6a5\">\n",
              "    <div class=\"colab-df-container\">\n",
              "      <div>\n",
              "<style scoped>\n",
              "    .dataframe tbody tr th:only-of-type {\n",
              "        vertical-align: middle;\n",
              "    }\n",
              "\n",
              "    .dataframe tbody tr th {\n",
              "        vertical-align: top;\n",
              "    }\n",
              "\n",
              "    .dataframe thead th {\n",
              "        text-align: right;\n",
              "    }\n",
              "</style>\n",
              "<table border=\"1\" class=\"dataframe\">\n",
              "  <thead>\n",
              "    <tr style=\"text-align: right;\">\n",
              "      <th></th>\n",
              "      <th>W_LocationID</th>\n",
              "      <th>GEOID</th>\n",
              "      <th>TRACTCE</th>\n",
              "      <th>group</th>\n",
              "      <th>consumption</th>\n",
              "      <th>pattern</th>\n",
              "      <th>Y</th>\n",
              "    </tr>\n",
              "  </thead>\n",
              "  <tbody>\n",
              "    <tr>\n",
              "      <th>0</th>\n",
              "      <td>MW10002</td>\n",
              "      <td>060590636052</td>\n",
              "      <td>063605</td>\n",
              "      <td>MB</td>\n",
              "      <td>low</td>\n",
              "      <td>1</td>\n",
              "      <td>0</td>\n",
              "    </tr>\n",
              "    <tr>\n",
              "      <th>1</th>\n",
              "      <td>MW10003</td>\n",
              "      <td>060590636052</td>\n",
              "      <td>063605</td>\n",
              "      <td>MB</td>\n",
              "      <td>low</td>\n",
              "      <td>1</td>\n",
              "      <td>0</td>\n",
              "    </tr>\n",
              "    <tr>\n",
              "      <th>2</th>\n",
              "      <td>MW10006</td>\n",
              "      <td>060590636052</td>\n",
              "      <td>063605</td>\n",
              "      <td>MB</td>\n",
              "      <td>low</td>\n",
              "      <td>1</td>\n",
              "      <td>0</td>\n",
              "    </tr>\n",
              "    <tr>\n",
              "      <th>3</th>\n",
              "      <td>MW10007</td>\n",
              "      <td>060590636052</td>\n",
              "      <td>063605</td>\n",
              "      <td>MB</td>\n",
              "      <td>low</td>\n",
              "      <td>1</td>\n",
              "      <td>0</td>\n",
              "    </tr>\n",
              "    <tr>\n",
              "      <th>4</th>\n",
              "      <td>MW10008</td>\n",
              "      <td>060590636052</td>\n",
              "      <td>063605</td>\n",
              "      <td>MB</td>\n",
              "      <td>low</td>\n",
              "      <td>1</td>\n",
              "      <td>0</td>\n",
              "    </tr>\n",
              "    <tr>\n",
              "      <th>...</th>\n",
              "      <td>...</td>\n",
              "      <td>...</td>\n",
              "      <td>...</td>\n",
              "      <td>...</td>\n",
              "      <td>...</td>\n",
              "      <td>...</td>\n",
              "      <td>...</td>\n",
              "    </tr>\n",
              "    <tr>\n",
              "      <th>8866</th>\n",
              "      <td>MW9991</td>\n",
              "      <td>060590636051</td>\n",
              "      <td>063605</td>\n",
              "      <td>MB</td>\n",
              "      <td>medium</td>\n",
              "      <td>0</td>\n",
              "      <td>7</td>\n",
              "    </tr>\n",
              "    <tr>\n",
              "      <th>8867</th>\n",
              "      <td>MW9992</td>\n",
              "      <td>060590636051</td>\n",
              "      <td>063605</td>\n",
              "      <td>MB</td>\n",
              "      <td>medium</td>\n",
              "      <td>2</td>\n",
              "      <td>0</td>\n",
              "    </tr>\n",
              "    <tr>\n",
              "      <th>8868</th>\n",
              "      <td>MW9993</td>\n",
              "      <td>060590636051</td>\n",
              "      <td>063605</td>\n",
              "      <td>MB</td>\n",
              "      <td>medium</td>\n",
              "      <td>2</td>\n",
              "      <td>0</td>\n",
              "    </tr>\n",
              "    <tr>\n",
              "      <th>8869</th>\n",
              "      <td>MW9996</td>\n",
              "      <td>060590636051</td>\n",
              "      <td>063605</td>\n",
              "      <td>SB</td>\n",
              "      <td>medium</td>\n",
              "      <td>4</td>\n",
              "      <td>0</td>\n",
              "    </tr>\n",
              "    <tr>\n",
              "      <th>8870</th>\n",
              "      <td>MW9999</td>\n",
              "      <td>060590636051</td>\n",
              "      <td>063605</td>\n",
              "      <td>SB</td>\n",
              "      <td>high</td>\n",
              "      <td>0</td>\n",
              "      <td>1</td>\n",
              "    </tr>\n",
              "  </tbody>\n",
              "</table>\n",
              "<p>8871 rows × 7 columns</p>\n",
              "</div>\n",
              "      <button class=\"colab-df-convert\" onclick=\"convertToInteractive('df-a7ea46f7-fb3d-4bfd-9335-904fa220b6a5')\"\n",
              "              title=\"Convert this dataframe to an interactive table.\"\n",
              "              style=\"display:none;\">\n",
              "        \n",
              "  <svg xmlns=\"http://www.w3.org/2000/svg\" height=\"24px\"viewBox=\"0 0 24 24\"\n",
              "       width=\"24px\">\n",
              "    <path d=\"M0 0h24v24H0V0z\" fill=\"none\"/>\n",
              "    <path d=\"M18.56 5.44l.94 2.06.94-2.06 2.06-.94-2.06-.94-.94-2.06-.94 2.06-2.06.94zm-11 1L8.5 8.5l.94-2.06 2.06-.94-2.06-.94L8.5 2.5l-.94 2.06-2.06.94zm10 10l.94 2.06.94-2.06 2.06-.94-2.06-.94-.94-2.06-.94 2.06-2.06.94z\"/><path d=\"M17.41 7.96l-1.37-1.37c-.4-.4-.92-.59-1.43-.59-.52 0-1.04.2-1.43.59L10.3 9.45l-7.72 7.72c-.78.78-.78 2.05 0 2.83L4 21.41c.39.39.9.59 1.41.59.51 0 1.02-.2 1.41-.59l7.78-7.78 2.81-2.81c.8-.78.8-2.07 0-2.86zM5.41 20L4 18.59l7.72-7.72 1.47 1.35L5.41 20z\"/>\n",
              "  </svg>\n",
              "      </button>\n",
              "      \n",
              "  <style>\n",
              "    .colab-df-container {\n",
              "      display:flex;\n",
              "      flex-wrap:wrap;\n",
              "      gap: 12px;\n",
              "    }\n",
              "\n",
              "    .colab-df-convert {\n",
              "      background-color: #E8F0FE;\n",
              "      border: none;\n",
              "      border-radius: 50%;\n",
              "      cursor: pointer;\n",
              "      display: none;\n",
              "      fill: #1967D2;\n",
              "      height: 32px;\n",
              "      padding: 0 0 0 0;\n",
              "      width: 32px;\n",
              "    }\n",
              "\n",
              "    .colab-df-convert:hover {\n",
              "      background-color: #E2EBFA;\n",
              "      box-shadow: 0px 1px 2px rgba(60, 64, 67, 0.3), 0px 1px 3px 1px rgba(60, 64, 67, 0.15);\n",
              "      fill: #174EA6;\n",
              "    }\n",
              "\n",
              "    [theme=dark] .colab-df-convert {\n",
              "      background-color: #3B4455;\n",
              "      fill: #D2E3FC;\n",
              "    }\n",
              "\n",
              "    [theme=dark] .colab-df-convert:hover {\n",
              "      background-color: #434B5C;\n",
              "      box-shadow: 0px 1px 3px 1px rgba(0, 0, 0, 0.15);\n",
              "      filter: drop-shadow(0px 1px 2px rgba(0, 0, 0, 0.3));\n",
              "      fill: #FFFFFF;\n",
              "    }\n",
              "  </style>\n",
              "\n",
              "      <script>\n",
              "        const buttonEl =\n",
              "          document.querySelector('#df-a7ea46f7-fb3d-4bfd-9335-904fa220b6a5 button.colab-df-convert');\n",
              "        buttonEl.style.display =\n",
              "          google.colab.kernel.accessAllowed ? 'block' : 'none';\n",
              "\n",
              "        async function convertToInteractive(key) {\n",
              "          const element = document.querySelector('#df-a7ea46f7-fb3d-4bfd-9335-904fa220b6a5');\n",
              "          const dataTable =\n",
              "            await google.colab.kernel.invokeFunction('convertToInteractive',\n",
              "                                                     [key], {});\n",
              "          if (!dataTable) return;\n",
              "\n",
              "          const docLinkHtml = 'Like what you see? Visit the ' +\n",
              "            '<a target=\"_blank\" href=https://colab.research.google.com/notebooks/data_table.ipynb>data table notebook</a>'\n",
              "            + ' to learn more about interactive tables.';\n",
              "          element.innerHTML = '';\n",
              "          dataTable['output_type'] = 'display_data';\n",
              "          await google.colab.output.renderOutput(dataTable, element);\n",
              "          const docLink = document.createElement('div');\n",
              "          docLink.innerHTML = docLinkHtml;\n",
              "          element.appendChild(docLink);\n",
              "        }\n",
              "      </script>\n",
              "    </div>\n",
              "  </div>\n",
              "  "
            ]
          },
          "metadata": {},
          "execution_count": 22
        }
      ],
      "source": [
        "CT_final.rename(columns={'CensusTract': 'TRACTCE', 'BlockGroup': 'GEOID'}, inplace= True)\n",
        "CT_final"
      ]
    },
    {
      "cell_type": "code",
      "execution_count": null,
      "metadata": {
        "id": "V1ZOsU0Cmaca"
      },
      "outputs": [],
      "source": [
        "# correct wrong BG numbers\n",
        "wrong_BG =['060590639064', '060590638073', '060590638074', '060590639044', '060590632014', '060590636043']\n",
        "new_BG = ['060590639063', '060590638072', '060590638072', '060590639043', '060590632013', '060590636042']\n",
        "\n",
        "CT_final.GEOID.replace(wrong_BG, new_BG, inplace=True)"
      ]
    },
    {
      "cell_type": "code",
      "execution_count": null,
      "metadata": {
        "id": "dzmYR5PmyhG0"
      },
      "outputs": [],
      "source": [
        "block_feat = pd.read_pickle('/content/drive/MyDrive/Stanford-TUBerlin/Code Marie/ClusterChange_multiBaseline/GIS plots/Features_SocioDemo')"
      ]
    },
    {
      "cell_type": "code",
      "execution_count": null,
      "metadata": {
        "id": "CFUcAUIoOUQC"
      },
      "outputs": [],
      "source": [
        "block_feat.rename(columns={'Total':'totHH'}, inplace=True)"
      ]
    },
    {
      "cell_type": "code",
      "execution_count": null,
      "metadata": {
        "id": "fVh2kOzPOWy8"
      },
      "outputs": [],
      "source": [
        "merger = CT_final.merge(block_feat, on='GEOID', how='left')"
      ]
    },
    {
      "cell_type": "code",
      "execution_count": null,
      "metadata": {
        "id": "xrUiN0smO5F4"
      },
      "outputs": [],
      "source": [
        "merger.replace(['-'], ['NaN'], inplace=True)"
      ]
    },
    {
      "cell_type": "code",
      "execution_count": null,
      "metadata": {
        "id": "oXosG8CBP_ki"
      },
      "outputs": [],
      "source": [
        "merger.drop(columns=['GEOID', 'TRACTCE', 'W_LocationID'], inplace=True)"
      ]
    },
    {
      "cell_type": "code",
      "execution_count": null,
      "metadata": {
        "id": "QVGmoYzzO9i4"
      },
      "outputs": [],
      "source": [
        "merger.to_pickle('/content/drive/MyDrive/Stanford-TUBerlin/CodePaper/Mapping/FeatureMatrix2')"
      ]
    },
    {
      "cell_type": "code",
      "execution_count": null,
      "metadata": {
        "id": "eNLmzmjBmgYa"
      },
      "outputs": [],
      "source": []
    }
  ],
  "metadata": {
    "colab": {
      "provenance": []
    },
    "kernelspec": {
      "display_name": "Python 3",
      "name": "python3"
    },
    "language_info": {
      "name": "python"
    }
  },
  "nbformat": 4,
  "nbformat_minor": 0
}