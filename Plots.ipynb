{
  "nbformat": 4,
  "nbformat_minor": 0,
  "metadata": {
    "colab": {
      "provenance": [],
      "collapsed_sections": [
        "cFkaRPy0Wl5S",
        "KaibeVZfXA7t",
        "57C1qRwDM7Ae"
      ]
    },
    "kernelspec": {
      "name": "python3",
      "display_name": "Python 3"
    },
    "language_info": {
      "name": "python"
    }
  },
  "cells": [
    {
      "cell_type": "code",
      "execution_count": null,
      "metadata": {
        "colab": {
          "base_uri": "https://localhost:8080/"
        },
        "id": "0hjY0KfYqDFA",
        "outputId": "42ccda09-b4d3-492e-af33-50bcb709299d"
      },
      "outputs": [
        {
          "output_type": "stream",
          "name": "stdout",
          "text": [
            "Mounted at /content/drive/\n"
          ]
        }
      ],
      "source": [
        "from google.colab import drive\n",
        "drive.mount('/content/drive/')"
      ]
    },
    {
      "cell_type": "code",
      "source": [
        "pip install geopandas"
      ],
      "metadata": {
        "id": "djZdz28VNtQ0"
      },
      "execution_count": null,
      "outputs": []
    },
    {
      "cell_type": "code",
      "source": [
        "import numpy as np\n",
        "import pandas as pd\n",
        "import matplotlib.pyplot as plt\n",
        "import matplotlib.colors\n",
        "from scipy.ndimage.filters import gaussian_filter1d\n",
        "\n",
        "#import geopandas as gpd\n",
        "# to make nice looking legends\n",
        "from mpl_toolkits.axes_grid1 import make_axes_locatable"
      ],
      "metadata": {
        "id": "3h1jgRwXqZA4"
      },
      "execution_count": null,
      "outputs": []
    },
    {
      "cell_type": "code",
      "source": [
        "#color scheme\n",
        "#colormap = [\"#2b2d42\",\"#8d99ae\",\"#edf2f4\",\"#f25467\",\"#d90429\"]\n",
        "#colormap = ['#8dabe2', '#b5c6f2', '#e3dff7', '#e5a0c5', '#e3789b']\n",
        "#colormap = [\"#5cadff\",\"#85ccff\",\"#c2e9ff\",\"#cbdfa5\",\"#9cc86a\"]\n",
        "colormap_pastel = [\"#dea27d\", '',\"#fff3eb\",'',\"#bfd3c1\"]\n",
        "colormap = [\"#c46931\",\"#fff3eb\",\"#426145\"]"
      ],
      "metadata": {
        "id": "5UGovR5mf44b"
      },
      "execution_count": null,
      "outputs": []
    },
    {
      "cell_type": "code",
      "source": [
        "groups= ['SB', 'SD', 'MB', 'MD']"
      ],
      "metadata": {
        "id": "1s0N9LKxqdWb"
      },
      "execution_count": null,
      "outputs": []
    },
    {
      "cell_type": "markdown",
      "source": [
        "#Boxplot Baseline consumption"
      ],
      "metadata": {
        "id": "cFkaRPy0Wl5S"
      }
    },
    {
      "cell_type": "code",
      "source": [
        "consumption_SB = pd.read_pickle('/content/drive/MyDrive/Stanford-TUBerlin/CodePaper/Consumption_Matrices/{}_accounts_actual_usage'.format('SB'))\n",
        "\n",
        "consumption_SD = pd.read_pickle('/content/drive/MyDrive/Stanford-TUBerlin/CodePaper/Consumption_Matrices/{}_accounts_actual_usage'.format('SD'))\n",
        "\n",
        "consumption_MB = pd.read_pickle('/content/drive/MyDrive/Stanford-TUBerlin/CodePaper/Consumption_Matrices/{}_accounts_actual_usage'.format('MB'))\n",
        "\n",
        "consumption_MD = pd.read_pickle('/content/drive/MyDrive/Stanford-TUBerlin/CodePaper/Consumption_Matrices/{}_accounts_actual_usage'.format('MD'))\n",
        "\n",
        "timeline = pd.date_range(start='1/1/2002',  end='7/1/2020', freq='2MS')\n",
        "n=6\n"
      ],
      "metadata": {
        "id": "FFoehURzoE4k"
      },
      "execution_count": null,
      "outputs": []
    },
    {
      "cell_type": "code",
      "source": [
        "timeline[111]"
      ],
      "metadata": {
        "colab": {
          "base_uri": "https://localhost:8080/"
        },
        "id": "8mBDqZr5TMHu",
        "outputId": "c406fcad-03dd-4fc0-faee-7fab9638149a"
      },
      "execution_count": null,
      "outputs": [
        {
          "output_type": "execute_result",
          "data": {
            "text/plain": [
              "Timestamp('2020-07-01 00:00:00', freq='2MS')"
            ]
          },
          "metadata": {},
          "execution_count": 19
        }
      ]
    },
    {
      "cell_type": "code",
      "source": [
        "medianprops = dict(linestyle='-', linewidth=1.2, color=colormap[-1])\n",
        "boxprops = dict(linewidth=1.2, color=colormap[0])\n",
        "whiskerprops = dict(linewidth=0.8, color=colormap[0])\n",
        "capprops = dict(color=colormap[0])"
      ],
      "metadata": {
        "id": "45L-hbA4p6Sd"
      },
      "execution_count": null,
      "outputs": []
    },
    {
      "cell_type": "code",
      "source": [
        "fig, axs = plt.subplots(nrows=1, ncols=1, figsize=(6, 1))\n",
        "\n",
        "consumption_SB.boxplot(showfliers= False, widths=1, \n",
        "                           medianprops=medianprops, boxprops=boxprops, \n",
        "                           whiskerprops=whiskerprops, capprops=capprops, ax=axs )\n",
        "axs.set_ylabel('SB household\\nwater consumption\\n[gals/day]', fontsize=7)\n",
        "axs.tick_params(axis='both', which='major', labelsize=7)\n",
        "#axs.set_title('Single-family: domestic & irrigation', size=14)\n",
        "axs.grid()\n",
        "\n",
        "# highlight stressors\n",
        "axs.axvspan(31, 51, alpha=0.2, color='k') # recession \n",
        "axs.axvspan(61, 91, alpha=0.2, color='k') # drought\n",
        "axs.axvspan(110, 112.5, alpha=0.2, color='k') # covid\n",
        "\n",
        "# distribution of x ticks\n",
        "ticks = axs.xaxis.get_ticklocs()\n",
        "axs.xaxis.set_ticks(ticks[::n])\n",
        "axs.xaxis.set_ticklabels([], fontsize=14, rotation=45)\n",
        "\n",
        "\n",
        "plt.savefig('/content/drive/MyDrive/Stanford-TUBerlin/CodePaper/Plots/Figures/boxplot_consumption_SB', format='jpg', dpi=600, bbox_inches=\"tight\")\n",
        "plt.show()"
      ],
      "metadata": {
        "colab": {
          "base_uri": "https://localhost:8080/",
          "height": 98
        },
        "id": "xtV_6p6BmDnr",
        "outputId": "21efb5e7-2ff3-493b-f067-95777cb22cf7"
      },
      "execution_count": null,
      "outputs": [
        {
          "output_type": "display_data",
          "data": {
            "text/plain": [
              "<Figure size 432x72 with 1 Axes>"
            ],
            "image/png": "[encoded data removed]"
          },
          "metadata": {
            "needs_background": "light"
          }
        }
      ]
    },
    {
      "cell_type": "code",
      "source": [
        "fig, axs = plt.subplots(nrows=1, ncols=1, figsize=(6, 1))\n",
        "\n",
        "consumption_SD.boxplot(showfliers= False, widths=1, \n",
        "                           medianprops=medianprops, boxprops=boxprops, \n",
        "                           whiskerprops=whiskerprops, capprops=capprops, ax=axs )\n",
        "axs.set_ylabel('SD household\\nwater consumption\\n[gals/day]', fontsize=7)\n",
        "axs.tick_params(axis='both', which='major', labelsize=7)\n",
        "#axs.set_title('Single-family: domestic & irrigation', size=14)\n",
        "axs.grid()\n",
        "\n",
        "# highlight stressors\n",
        "axs.axvspan(31, 51, alpha=0.2, color='k') # recession \n",
        "axs.axvspan(61, 91, alpha=0.2, color='k') # drought\n",
        "axs.axvspan(110, 112.5, alpha=0.2, color='k') # covid\n",
        "\n",
        "# distribution of x ticks\n",
        "ticks = axs.xaxis.get_ticklocs()\n",
        "axs.xaxis.set_ticks(ticks[::n])\n",
        "axs.xaxis.set_ticklabels([], fontsize=14, rotation=45)\n",
        "\n",
        "plt.savefig('/content/drive/MyDrive/Stanford-TUBerlin/CodePaper/Plots/Figures/boxplot_consumption_SD', format='jpg', dpi=600, bbox_inches=\"tight\")\n",
        "plt.show()"
      ],
      "metadata": {
        "colab": {
          "base_uri": "https://localhost:8080/",
          "height": 98
        },
        "id": "j2T54fu6qIrq",
        "outputId": "225392a4-976b-4c62-c978-adf0e504c123"
      },
      "execution_count": null,
      "outputs": [
        {
          "output_type": "display_data",
          "data": {
            "text/plain": [
              "<Figure size 432x72 with 1 Axes>"
            ],
            "image/png": "[encoded data removed]"
          },
          "metadata": {
            "needs_background": "light"
          }
        }
      ]
    },
    {
      "cell_type": "code",
      "source": [
        "fig, axs = plt.subplots(nrows=1, ncols=1, figsize=(6, 1))\n",
        "\n",
        "consumption_MB.boxplot(showfliers= False, widths=1, \n",
        "                           medianprops=medianprops, boxprops=boxprops, \n",
        "                           whiskerprops=whiskerprops, capprops=capprops, ax=axs )\n",
        "axs.set_ylabel('MB household\\nwater consumption\\n[gals/day]', fontsize=7)\n",
        "axs.tick_params(axis='both', which='major', labelsize=7)\n",
        "#axs.set_title('Single-family: domestic & irrigation', size=14)\n",
        "axs.grid()\n",
        "\n",
        "# highlight stressors\n",
        "axs.axvspan(31, 51, alpha=0.2, color='k') # recession \n",
        "axs.axvspan(61, 91, alpha=0.2, color='k') # drought\n",
        "axs.axvspan(110, 112.5, alpha=0.2, color='k') # covid\n",
        "\n",
        "# distribution of x ticks\n",
        "ticks = axs.xaxis.get_ticklocs()\n",
        "axs.xaxis.set_ticks(ticks[::n])\n",
        "axs.xaxis.set_ticklabels([], fontsize=14, rotation=45)\n",
        "\n",
        "plt.savefig('/content/drive/MyDrive/Stanford-TUBerlin/CodePaper/Plots/Figures/boxplot_consumption_MB', format='jpg', dpi=600, bbox_inches=\"tight\")\n",
        "plt.show()"
      ],
      "metadata": {
        "colab": {
          "base_uri": "https://localhost:8080/",
          "height": 98
        },
        "id": "Mvzh6Ke-qI2i",
        "outputId": "676c2952-08f8-4360-d178-d1608ae6906f"
      },
      "execution_count": null,
      "outputs": [
        {
          "output_type": "display_data",
          "data": {
            "text/plain": [
              "<Figure size 432x72 with 1 Axes>"
            ],
            "image/png": "[encoded data removed]"
          },
          "metadata": {
            "needs_background": "light"
          }
        }
      ]
    },
    {
      "cell_type": "code",
      "source": [
        "fig, axs = plt.subplots(nrows=1, ncols=1, figsize=(6, 1))\n",
        "\n",
        "consumption_MD.boxplot(showfliers= False, widths=1, \n",
        "                           medianprops=medianprops, boxprops=boxprops, \n",
        "                           whiskerprops=whiskerprops, capprops=capprops, ax=axs )\n",
        "axs.set_ylabel('MD household\\nwater consumption\\n[gals/day]', fontsize=7)\n",
        "axs.tick_params(axis='both', which='major', labelsize=7)\n",
        "#axs.set_title('Single-family: domestic & irrigation', size=14)\n",
        "axs.grid()\n",
        "\n",
        "# highlight stressors\n",
        "axs.axvspan(31, 51, alpha=0.2, color='k') # recession \n",
        "axs.axvspan(61, 91, alpha=0.2, color='k') # drought\n",
        "axs.axvspan(110, 112.5, alpha=0.2, color='k') # covid\n",
        "\n",
        "# distribution of x ticks\n",
        "ticks = axs.xaxis.get_ticklocs()\n",
        "axs.xaxis.set_ticks(ticks[::n])\n",
        "axs.xaxis.set_ticklabels(timeline.year[::n], fontsize=7, rotation=45)\n",
        "\n",
        "plt.savefig('/content/drive/MyDrive/Stanford-TUBerlin/CodePaper/Plots/Figures/boxplot_consumption_MD', format='jpg', dpi=600, bbox_inches=\"tight\")\n",
        "plt.show()"
      ],
      "metadata": {
        "colab": {
          "base_uri": "https://localhost:8080/",
          "height": 116
        },
        "id": "My_wTb0dqJCn",
        "outputId": "81eae0eb-bd12-4dca-cf1c-d797eb056ef4"
      },
      "execution_count": null,
      "outputs": [
        {
          "output_type": "display_data",
          "data": {
            "text/plain": [
              "<Figure size 432x72 with 1 Axes>"
            ],
            "image/png": "[encoded data removed]"
          },
          "metadata": {
            "needs_background": "light"
          }
        }
      ]
    },
    {
      "cell_type": "code",
      "source": [
        "# fig, axs = plt.subplots(nrows=4, ncols=1, figsize=(20, 20), sharex=True)\n",
        "# \n",
        "# consumption_SB.boxplot(showfliers= False, widths=1, \n",
        "#                            medianprops=medianprops, boxprops=boxprops, \n",
        "#                            whiskerprops=whiskerprops, capprops=capprops, ax=axs[0] )\n",
        "# axs[0].set_ylabel('gal/day', fontsize=14)\n",
        "# axs[0].tick_params(axis='both', which='major', labelsize=14)\n",
        "# axs[0].set_title('Single-family: domestic & irrigation', size=14)\n",
        "# axs[0].grid()\n",
        "# \n",
        "# consumption_SD.boxplot(showfliers= False, widths=1, \n",
        "#                        medianprops=medianprops, boxprops=boxprops, \n",
        "#                        whiskerprops=whiskerprops, capprops=capprops, ax=axs[1] )\n",
        "# axs[1].set_ylabel('gal/day', fontsize=14)\n",
        "# axs[1].tick_params(axis='both', which='major', labelsize=14)\n",
        "# axs[1].set_title('Single-family: domestic', size=14)\n",
        "# axs[1].grid()\n",
        "# \n",
        "# \n",
        "# consumption_MB.boxplot(showfliers= False, widths=1, \n",
        "#                         medianprops=medianprops, boxprops=boxprops, \n",
        "#                         whiskerprops=whiskerprops, capprops=capprops, ax=axs[2] )\n",
        "# axs[2].set_ylabel('gal/day', fontsize=14)\n",
        "# axs[2].tick_params(axis='both', which='major', labelsize=14)\n",
        "# axs[2].set_title('Multi-family: domestic & irrigation', size=14)\n",
        "# axs[2].grid()\n",
        "# \n",
        "# \n",
        "# consumption_MD.boxplot(showfliers= False, widths=1, \n",
        "#                         medianprops=medianprops, boxprops=boxprops, \n",
        "#                         whiskerprops=whiskerprops, capprops=capprops, ax=axs[3] )\n",
        "# axs[3].set_ylabel('gal/day', fontsize=14)\n",
        "# axs[3].tick_params(axis='both', which='major', labelsize=14)\n",
        "# axs[3].set_title('Multi-family: domestic', size=14)\n",
        "# axs[3].grid()\n",
        "# # distribution of x ticks\n",
        "# ticks = axs[3].xaxis.get_ticklocs()\n",
        "# axs[3].xaxis.set_ticks(ticks[::n])\n",
        "# axs[3].xaxis.set_ticklabels(timeline.year[::n], fontsize=14, rotation=45)\n",
        "# \n",
        "# plt.savefig('/content/drive/MyDrive/Stanford-TUBerlin/CodePaper/Plots/Figures/boxplot_consumption', format='jpg', dpi=600, bbox_inches=\"tight\")\n",
        "# plt.show()"
      ],
      "metadata": {
        "id": "nHykjGZvnVus"
      },
      "execution_count": null,
      "outputs": []
    },
    {
      "cell_type": "markdown",
      "source": [
        "# Barplot Patterns"
      ],
      "metadata": {
        "id": "KaibeVZfXA7t"
      }
    },
    {
      "cell_type": "code",
      "source": [
        "# load data\n",
        "all_profiles = pd.read_pickle('/content/drive/MyDrive/Stanford-TUBerlin/CodePaper/Mapping/All_clustering')\n",
        "pattern_all = pd.read_pickle('/content/drive/MyDrive/Stanford-TUBerlin/CodePaper/Mapping/Longterm_pattern')"
      ],
      "metadata": {
        "id": "wfkfa5HXtQvq"
      },
      "execution_count": null,
      "outputs": []
    },
    {
      "cell_type": "code",
      "source": [
        "pattern_group = all_profiles.groupby(by=['Y'])"
      ],
      "metadata": {
        "id": "VkXBvSQqXZEs"
      },
      "execution_count": null,
      "outputs": []
    },
    {
      "cell_type": "code",
      "source": [
        "timeline[76]"
      ],
      "metadata": {
        "id": "dXm5qhifdvgp"
      },
      "execution_count": null,
      "outputs": []
    },
    {
      "cell_type": "code",
      "source": [
        "timeline = pd.date_range(start='1/1/2008',  end='7/1/2020', freq='2MS')\n",
        "title = ['Long-term savers', 'Drought savers', 3, 4, 5, 6, 7, 8]\n",
        "\n",
        "for i, (name, group) in enumerate(pattern_group):\n",
        "  toPlotpattern = pattern_all.loc[group.index].pattern.apply(pd.Series)\n",
        "  toPlotpattern.columns = timeline\n",
        "  barplot_df = pd.DataFrame(index = timeline, columns= [-1, 0, 1])\n",
        "  for date in timeline:\n",
        "    count = pd.value_counts(toPlotpattern[date])\n",
        "    barplot_df.loc[date] =  count\n",
        "\n",
        "  # sort groups\n",
        "  categories = [1, 0, -1]\n",
        "  barplot_df.columns = pd.CategoricalIndex(barplot_df.columns.values, \n",
        "                                 ordered=True, \n",
        "                                 categories=categories)\n",
        "  # Sort the columns (axis=1) by the new categorical ordering\n",
        "  barplot_df = barplot_df.sort_index(axis=1)\n",
        "\n",
        "  \n",
        "  #barplot\n",
        "  ax1 = barplot_df.plot.bar(stacked=True, figsize=(3,1.5),color=[colormap_pastel[-1], colormap_pastel[2], colormap_pastel[0]], width=1, rot=0, legend=False)\n",
        "  ax1.set_ylim(0,len(toPlotpattern))\n",
        "\n",
        "  #add hatch pattern\n",
        "  #bars = ax1.patches\n",
        "  #patterns =('//','','\\\\')\n",
        "  #hatches = [p for p in patterns for i in range(len(barplot_df))]\n",
        "  #for bar, hatch in zip(bars, hatches):\n",
        "  #  bar.set_hatch(hatch)\n",
        "\n",
        "  # highlight stressors\n",
        "  ax1.axvspan(-0.5, 14, alpha=0.2, color='k') # recession\n",
        "  ax1.axvspan(24, 54, alpha=0.2, color='k') # drought\n",
        "  ax1.axvspan(73, 76, alpha=0.2, color='k') # drought\n",
        "\n",
        "  \n",
        "  #pattern from clusters smoothend\n",
        "  toPlotMean = toPlotpattern.mean(axis=0)\n",
        "  MeanSmoothed = pd.DataFrame(index = timeline, columns=['mean'], data =gaussian_filter1d(toPlotMean, sigma=2)) \n",
        "  ax2 = ax1.twinx()\n",
        "  #ax2.spines['right'].set_position(('axes', 1.0))\n",
        "  ax2.set_ylim(-1,1)\n",
        "  MeanSmoothed.plot(linestyle='-', linewidth = 1.5, color='k', use_index=False, ax=ax2, legend=False)\n",
        "  #ax2.tick_params(axis='y', labelcolor='tab:red')\n",
        "  \n",
        "  # only plot legend for first figure\n",
        "  if i == 0:\n",
        "\n",
        "    # merge legends\n",
        "    lines, labels = ax1.get_legend_handles_labels()\n",
        "    lines2, labels2 = ax2.get_legend_handles_labels()\n",
        "    ax2.legend(lines + lines2, ['increase', 'no change', 'decrease'] + labels2, fontsize=7, \n",
        "               loc='upper right',bbox_to_anchor=(0.95, 1.35), ncol=2)\n",
        "  else:\n",
        "    pass\n",
        "    \n",
        "\n",
        "  # fontsize y ticks\n",
        "  ax1.tick_params(axis='both', which='major', labelsize=7)\n",
        "  ax2.tick_params(axis='both', which='major', labelsize=7)\n",
        "\n",
        "  # distribution of x ticks\n",
        "  n=6\n",
        "  ticks = ax1.xaxis.get_ticklocs()\n",
        "  if i == 6:\n",
        "\n",
        "    ax1.xaxis.set_ticks(ticks[::n])\n",
        "    ax1.xaxis.set_ticklabels(barplot_df.index.year[::n], fontsize=7, rotation=45)\n",
        "  else:\n",
        "     ax1.xaxis.set_ticks(ticks[::n])\n",
        "     ax1.xaxis.set_ticklabels([], fontsize=7)\n",
        "\n",
        "  # ylables \n",
        "  ax1.set_ylabel('Customers', fontsize=7)\n",
        "  ax2.set_ylabel('Mean Consumption \\nChange [-]', fontsize=7)\n",
        "\n",
        "\n",
        "  \n",
        "  plt.savefig('/content/drive/MyDrive/Stanford-TUBerlin/CodePaper/Plots/Figures/boxplot_consumption_patter{}'.format(i), format='jpg', dpi=600, bbox_inches='tight')\n",
        "  plt.show()\n",
        "  #plt.close()"
      ],
      "metadata": {
        "id": "aClhe9xzXebn",
        "colab": {
          "base_uri": "https://localhost:8080/",
          "height": 869
        },
        "outputId": "8f1927c3-df63-44e2-9050-3677f200646d"
      },
      "execution_count": null,
      "outputs": [
        {
          "output_type": "display_data",
          "data": {
            "text/plain": [
              "<Figure size 216x108 with 2 Axes>"
            ],
            "image/png": "[encoded data removed]"
          },
          "metadata": {
            "needs_background": "light"
          }
        },
        {
          "output_type": "display_data",
          "data": {
            "text/plain": [
              "<Figure size 216x108 with 2 Axes>"
            ],
            "image/png": "[encoded data removed]"
          },
          "metadata": {
            "needs_background": "light"
          }
        },
        {
          "output_type": "display_data",
          "data": {
            "text/plain": [
              "<Figure size 216x108 with 2 Axes>"
            ],
            "image/png": "[encoded data removed]"
          },
          "metadata": {
            "needs_background": "light"
          }
        },
        {
          "output_type": "display_data",
          "data": {
            "text/plain": [
              "<Figure size 216x108 with 2 Axes>"
            ],
            "image/png": "[encoded data removed]"
          },
          "metadata": {
            "needs_background": "light"
          }
        },
        {
          "output_type": "display_data",
          "data": {
            "text/plain": [
              "<Figure size 216x108 with 2 Axes>"
            ],
            "image/png": "[encoded data removed]"
          },
          "metadata": {
            "needs_background": "light"
          }
        },
        {
          "output_type": "display_data",
          "data": {
            "text/plain": [
              "<Figure size 216x108 with 2 Axes>"
            ],
            "image/png": "[encoded data removed]"
          },
          "metadata": {
            "needs_background": "light"
          }
        },
        {
          "output_type": "display_data",
          "data": {
            "text/plain": [
              "<Figure size 216x108 with 2 Axes>"
            ],
            "image/png": "[encoded data removed]"
          },
          "metadata": {
            "needs_background": "light"
          }
        },
        {
          "output_type": "display_data",
          "data": {
            "text/plain": [
              "<Figure size 216x108 with 2 Axes>"
            ],
            "image/png": "[encoded data removed]"
          },
          "metadata": {
            "needs_background": "light"
          }
        }
      ]
    },
    {
      "cell_type": "markdown",
      "source": [
        "# PRIM plots"
      ],
      "metadata": {
        "id": "l-MY7yt5pz24"
      }
    },
    {
      "cell_type": "code",
      "source": [
        "# denormalize features\n",
        "Features = pd.read_pickle('/content/drive/MyDrive/Stanford-TUBerlin/CodePaper/Mapping/FeatureMatrix_COVID_new')\n",
        "#Features = Features.fillna(0)\n",
        "cols = Features.columns\n",
        "Features[cols] = Features[cols].apply(pd.to_numeric, errors='coerce')"
      ],
      "metadata": {
        "id": "fWCwTwmOktNz"
      },
      "execution_count": null,
      "outputs": []
    },
    {
      "cell_type": "code",
      "source": [
        "MinMax_df = pd.DataFrame(index =Features.columns, columns=['min', 'max'])\n",
        "\n",
        "for i in Features.columns:\n",
        "  MinMax_df.loc[i] = Features[i].min(), Features[i].max()\n",
        "\n",
        "def denorm(value, x):\n",
        "  real = value*(MinMax_df.loc[x]['max']-MinMax_df.loc[x]['min'])+MinMax_df.loc[x]['min']\n",
        "  return real"
      ],
      "metadata": {
        "id": "zp_JlULCk8QD"
      },
      "execution_count": null,
      "outputs": []
    },
    {
      "cell_type": "code",
      "source": [
        "# increase vs. decrease\n",
        "\n",
        "# Coverage: 0.605358\n",
        "# Density:  0.877203\n",
        "# Mass:     0.597074\n",
        "# Res Dim:  4.000000\n",
        "# Mean:     0.877203\n",
        "\n",
        "#                           min       max  qp values\n",
        "data = np.array( [[ 0.148788,1.0000],\n",
        "                  [ 0.000000, 0.935974 ],\n",
        "                  [ 0.000000, 0.328892],\n",
        "                  [ 0.082396, 1.000000]])\n",
        "x = ['Number of People in BG',\n",
        "'3-person Households %',\n",
        "'6-person Households %',\n",
        "'2-person Households %']"
      ],
      "metadata": {
        "id": "oW6h1dEVqG6y"
      },
      "execution_count": null,
      "outputs": []
    },
    {
      "cell_type": "code",
      "source": [
        "data[0,1]"
      ],
      "metadata": {
        "colab": {
          "base_uri": "https://localhost:8080/"
        },
        "id": "RGyu3jh4p_S1",
        "outputId": "ce6a591c-8d20-4de8-ad05-3d646a401c77"
      },
      "execution_count": null,
      "outputs": [
        {
          "output_type": "execute_result",
          "data": {
            "text/plain": [
              "1.0"
            ]
          },
          "metadata": {},
          "execution_count": 8
        }
      ]
    },
    {
      "cell_type": "code",
      "source": [
        "fig, axs = plt.subplots(nrows=1, ncols=1, figsize=(2, 2))\n",
        "\n",
        "axs.scatter(x , data[:,1], color = colormap[-1], s=50)\n",
        "axs.scatter(x, data[:,0], color = colormap[0], s=50)\n",
        "\n",
        "for i, j in enumerate(x):\n",
        "  axs.vlines(i, data[i,0], data[i,1], color = colormap[1], zorder=0, linewidth=5)\n",
        "\n",
        "\n",
        "axs.set_ylim(-0.05,1.05)\n",
        "# lables \n",
        "axs.set_ylabel('Dimension Restrictions [-]', fontsize=7)\n",
        "axs.tick_params(axis='y', labelsize=7)\n",
        "axs.tick_params(axis='x', labelsize=7, rotation=90)\n",
        "\n",
        "# annotate min max\n",
        "axs.annotate('1096', (0, data[0,0]),(0.15, data[0,0]), fontsize=6)\n",
        "axs.annotate('3905', (0, data[0,1]),(0.15, data[0,1]-0.03), fontsize=6)\n",
        "\n",
        "axs.annotate('5.7', (1, data[1,0]),(1.15, data[1,0]), fontsize=6)\n",
        "axs.annotate('20.5',(1, data[1,1]),(1.15, data[1,1]), fontsize=6)\n",
        "\n",
        "axs.annotate('2.3', (2, data[0,0]),(2.15, data[2,0]), fontsize=6)\n",
        "axs.annotate('14.9', (2, data[0,1]),(2.15, data[2,1]), fontsize=6)\n",
        "\n",
        "axs.annotate('12.9', (3, data[3,0]),(2.5, data[3,0]), fontsize=6)\n",
        "axs.annotate('48.1', (3, data[3,1]),(2.5, data[3,1]-0.03), fontsize=6)\n",
        "\n",
        "#axs.annotate(str(denorm(data[3,0], x[3])), (3, data[3,0]),(2.9, data[3,0]), fontsize=16)\n",
        "#axs.annotate(str(denorm(data[3,1], x[3])), (3, data[3,1]),(2.9, data[3,1]), fontsize=16)\n",
        "\n",
        "\n",
        "#plt.title('Increase vs. Decrease', fontsize=24)\n",
        "plt.savefig('/content/drive/MyDrive/Stanford-TUBerlin/CodePaper/Plots/Figures/PRIM_1', format='jpg', dpi=600, bbox_inches='tight')\n",
        "plt.show()"
      ],
      "metadata": {
        "colab": {
          "base_uri": "https://localhost:8080/",
          "height": 230
        },
        "id": "3_Ue9gU30SVG",
        "outputId": "ef5fef5b-2101-409c-e584-c55fb8ce5116"
      },
      "execution_count": null,
      "outputs": [
        {
          "output_type": "display_data",
          "data": {
            "text/plain": [
              "<Figure size 144x144 with 1 Axes>"
            ],
            "image/png": "[encoded data removed]"
          },
          "metadata": {
            "needs_background": "light"
          }
        }
      ]
    },
    {
      "cell_type": "code",
      "source": [
        "# recession vs. drought\n",
        "\n",
        "# Coverage: 0.665556\n",
        "#        Density:  0.376020\n",
        "#        Mass:     0.614346\n",
        "#        Res Dim:  6.000000\n",
        "#        Mean:     0.376020\n",
        "\n",
        "data = np.array([[0.000000 , 0.848556 ,  0.220956],\n",
        "                [0.000000,0.795527  , 0.327720],\n",
        "                [0.430958  ,1.000000  , 0.397137],\n",
        "                [0.003891  ,1.000000  , 0.403808],\n",
        "                [0.000000  ,0.772480  , 0.478415],\n",
        "                [0.133504  ,1.000000  , 0.509464]])\n",
        "x = ['Median Income $', \n",
        "'Median Age', \n",
        "'3-person Households %', \n",
        "'7-person Households %', \n",
        "'Higher Education %', \n",
        "'Family Population %']\n",
        "\n"
      ],
      "metadata": {
        "id": "WyTAK2VmbCbS"
      },
      "execution_count": null,
      "outputs": []
    },
    {
      "cell_type": "code",
      "source": [
        "denorm(1, 'FamPopulation %')"
      ],
      "metadata": {
        "colab": {
          "base_uri": "https://localhost:8080/"
        },
        "id": "ruHGAv9jQBm0",
        "outputId": "9225fe82-e1dd-4441-9c6c-e2fc1df8c765"
      },
      "execution_count": null,
      "outputs": [
        {
          "output_type": "execute_result",
          "data": {
            "text/plain": [
              "93.64569961489089"
            ]
          },
          "metadata": {},
          "execution_count": 23
        }
      ]
    },
    {
      "cell_type": "code",
      "source": [
        "fig, axs = plt.subplots(nrows=1, ncols=1, figsize=(2, 2))\n",
        "\n",
        "axs.scatter(x , data[:,1], color = colormap[-1], s=50)\n",
        "axs.scatter(x, data[:,0], color = colormap[0], s=50)\n",
        "\n",
        "for i, j in enumerate(x):\n",
        "  axs.vlines(i, data[i,0], data[i,1], color = colormap[1], zorder=0, linewidth=5)\n",
        "\n",
        "\n",
        "axs.set_ylim(-0.05,1.05)\n",
        "# lables \n",
        "axs.set_ylabel('Dimension Restrictions [-]', fontsize=7)\n",
        "axs.tick_params(axis='y', labelsize=7)\n",
        "axs.tick_params(axis='x', labelsize=7, rotation=90)\n",
        "\n",
        "# annotate min max\n",
        "axs.annotate('33k', (0, data[0,0]),(0.2, data[0,0]), fontsize=6)\n",
        "axs.annotate('142k', (0, data[0,1]),(0.2, data[0,1]+0.01), fontsize=6)\n",
        "\n",
        "axs.annotate('23.8', (1, data[1,0]),(1.2, data[1,0]), fontsize=6)\n",
        "axs.annotate('48.7',(1, data[1,1]),(1.2, data[1,1]+0.01), fontsize=6)\n",
        "\n",
        "axs.annotate('12.5', (2, data[2,0]),(2.2, data[2,0]), fontsize=6)\n",
        "axs.annotate('21.5', (2, data[2,1]),(1.15, data[2,1]-0.01), fontsize=6)\n",
        "\n",
        "axs.annotate('0.1', (3, data[3,0]),(3.2, data[3,0]), fontsize=6)\n",
        "axs.annotate('25.0',(3, data[3,1]),(3.2, data[3,1]-0.01), fontsize=6)\n",
        "\n",
        "axs.annotate('16.5', (4, data[4,0]),(4.2, data[4,0]), fontsize=6)\n",
        "axs.annotate('62.8', (4, data[4,1]),(4.2, data[4,1]), fontsize=6)\n",
        "\n",
        "axs.annotate('47.8', (5, data[5,0]),(4.2, data[5,0]), fontsize=6)\n",
        "axs.annotate('93.7', (5, data[5,1]),(4.2, data[5,1]-0.01), fontsize=6)\n",
        "\n",
        "\n",
        "#plt.title('Recession vs. Drought', fontsize=24)\n",
        "plt.savefig('/content/drive/MyDrive/Stanford-TUBerlin/CodePaper/Plots/Figures/PRIM_2', format='jpg', dpi=600, bbox_inches='tight')\n",
        "plt.show()"
      ],
      "metadata": {
        "colab": {
          "base_uri": "https://localhost:8080/",
          "height": 229
        },
        "id": "q2SxLrMu7TR2",
        "outputId": "3dbe1a98-210a-4175-8770-c48b5b05e82a"
      },
      "execution_count": null,
      "outputs": [
        {
          "output_type": "display_data",
          "data": {
            "text/plain": [
              "<Figure size 144x144 with 1 Axes>"
            ],
            "image/png": "[encoded data removed]"
          },
          "metadata": {
            "needs_background": "light"
          }
        }
      ]
    },
    {
      "cell_type": "code",
      "source": [
        "# longterm vs. rebound\n",
        "\n",
        "#   Stats\n",
        "#       Coverage: 0.626741\n",
        "#       Density:  0.519630\n",
        "#       Mass:     0.511518\n",
        "#       Res Dim:  7.000000\n",
        "#       Mean:     0.519630\n",
        "#   Limits\n",
        "#                             min       max  qp values\n",
        "data = np.array([[0.000000,  0.272995,   0.009369],\n",
        "                [0.000000,  0.909376,   0.042740],\n",
        "                [0.000000,  0.357178,   0.175476],\n",
        "                [0.044949,  1.000000,   0.233752],\n",
        "                [0.000000,  0.643248,   0.443825],\n",
        "                [0.341370,  1.000000,   0.456749],\n",
        "                [0.080204,  1.000000,   0.482633]])\n",
        "\n",
        "\n",
        "x = ['Number of Households in BG',\n",
        "    '4-person Households %',\n",
        "    '6-person Households %',\n",
        "    'Number of People in BG',\n",
        "    '1-person Households %',\n",
        "    'Median Income $',\n",
        "    '5-person Households %']"
      ],
      "metadata": {
        "id": "EBqvXJ_Ap6Uo"
      },
      "execution_count": null,
      "outputs": []
    },
    {
      "cell_type": "code",
      "source": [
        "print(denorm(0.341370, 'Median Income $'), denorm(1, 'Median Income $'))"
      ],
      "metadata": {
        "colab": {
          "base_uri": "https://localhost:8080/"
        },
        "id": "FGeQbjkbW7YL",
        "outputId": "3b3f45bc-8d5a-4a98-8ba4-db4e0fba712b"
      },
      "execution_count": null,
      "outputs": [
        {
          "output_type": "stream",
          "name": "stdout",
          "text": [
            "77016.17208 161442.0\n"
          ]
        }
      ]
    },
    {
      "cell_type": "code",
      "source": [
        "fig, axs = plt.subplots(nrows=1, ncols=1, figsize=(2, 2))\n",
        "\n",
        "axs.scatter(x , data[:,1], color = colormap[-1], s=50)\n",
        "axs.scatter(x, data[:,0], color = colormap[0], s=50)\n",
        "\n",
        "for i, j in enumerate(x):\n",
        "  axs.vlines(i, data[i,0], data[i,1], color = colormap[1], zorder=0, linewidth=5)\n",
        "\n",
        "\n",
        "axs.set_ylim(-0.05,1.05)\n",
        "# lables \n",
        "axs.set_ylabel('Dimension Restrictions [-]', fontsize=7)\n",
        "axs.tick_params(axis='y', labelsize=7)\n",
        "axs.tick_params(axis='x', labelsize=7, rotation=90)\n",
        "\n",
        "# annotate min max\n",
        "axs.annotate('261', (0, data[0,0]),(0.1, data[0,0]+0.05), fontsize=6)\n",
        "axs.annotate('632', (0, data[0,1]),(0.2, data[0,1]), fontsize=6)\n",
        "\n",
        "axs.annotate('3.7', (1, data[1,0]),(1.1, data[1,0]+0.05), fontsize=6)\n",
        "axs.annotate('19.3',(1, data[1,1]),(1.2, data[1,1]), fontsize=6)\n",
        "\n",
        "axs.annotate('0.06', (2, data[2,0]),(2.2, data[2,0]-0.03), fontsize=6)\n",
        "axs.annotate('5.4', (2, data[2,1]),(2.2, data[2,1]), fontsize=6)\n",
        "\n",
        "axs.annotate('753', (3, data[3,0]),(3.2, data[3,0]), fontsize=6)\n",
        "axs.annotate('3905',(3, data[3,1]),(3.25, data[3,1]-0.01), fontsize=6)\n",
        "\n",
        "axs.annotate('6.0', (4, data[4,0]),(4.2, data[4,0]), fontsize=6)\n",
        "axs.annotate('43.3', (4, data[4,1]),(4.25, data[4,1]), fontsize=6)\n",
        "\n",
        "axs.annotate('77k', (5, data[5,0]),(5.2, data[5,0]), fontsize=6)\n",
        "axs.annotate('161k', (5, data[5,1]),(4.4, data[5,1]-0.1), fontsize=6)\n",
        "\n",
        "axs.annotate('2.2', (6, data[6,0]),(5.2, data[6,0]), fontsize=6)\n",
        "axs.annotate('18.8', (6, data[6,1]),(5.4, data[6,1]-0.1), fontsize=6)\n",
        "\n",
        "\n",
        "#plt.title('Longterm vs. Rebound', fontsize=24)\n",
        "plt.savefig('/content/drive/MyDrive/Stanford-TUBerlin/CodePaper/Plots/Figures/PRIM_3', format='jpg', dpi=600, bbox_inches='tight')\n",
        "plt.show()"
      ],
      "metadata": {
        "colab": {
          "base_uri": "https://localhost:8080/",
          "height": 247
        },
        "id": "r-TgwcM6RaoS",
        "outputId": "e30a00f2-de2a-4008-c1cd-f63933642668"
      },
      "execution_count": null,
      "outputs": [
        {
          "output_type": "display_data",
          "data": {
            "text/plain": [
              "<Figure size 144x144 with 1 Axes>"
            ],
            "image/png": "[encoded data removed]"
          },
          "metadata": {
            "needs_background": "light"
          }
        }
      ]
    },
    {
      "cell_type": "code",
      "source": [
        "# COVID increase vs decrease\n",
        "#   Stats\n",
        "#        Coverage: 0.624666\n",
        "#        Density:  0.941041\n",
        "#        Mass:     0.616271\n",
        "#        Res Dim:  4.000000\n",
        "#        Mean:     0.941041\n",
        "#    Limits\n",
        "#                                 min       max  qp values\n",
        "\n",
        "\n",
        "data = np.array([[0.000000,  0.272627,   0.088025],\n",
        "                 [0.088939,  0.463788,   0.159296],\n",
        "                 [0.525253,  1.000000,   0.295013],\n",
        "                 [0.000000,  0.930222,   0.518573]])\n",
        "\n",
        "\n",
        "x = ['Number of Households in BG',\n",
        "     'Number of People in BG',\n",
        "     'Family Population %',\n",
        "     'Higher Education %']"
      ],
      "metadata": {
        "id": "rEcsspcUqrx0"
      },
      "execution_count": null,
      "outputs": []
    },
    {
      "cell_type": "code",
      "source": [
        "print(denorm(0, 'Higher Education %'), denorm(0.930222, 'Higher Education %'))"
      ],
      "metadata": {
        "colab": {
          "base_uri": "https://localhost:8080/"
        },
        "id": "TBBLLbuQlxrV",
        "outputId": "5cfea7a7-547f-49da-ac07-999a8fb82737"
      },
      "execution_count": null,
      "outputs": [
        {
          "output_type": "stream",
          "name": "stdout",
          "text": [
            "16.52482269503546 72.20864696716512\n"
          ]
        }
      ]
    },
    {
      "cell_type": "code",
      "source": [
        "fig, axs = plt.subplots(nrows=1, ncols=1, figsize=(2, 2))\n",
        "\n",
        "axs.scatter(x , data[:,1], color = colormap[-1], s=50)\n",
        "axs.scatter(x, data[:,0], color = colormap[0], s=50)\n",
        "\n",
        "for i, j in enumerate(x):\n",
        "  axs.vlines(i, data[i,0], data[i,1], color = colormap[1], zorder=0, linewidth=5)\n",
        "\n",
        "\n",
        "axs.set_ylim(-0.05,1.05)\n",
        "# lables \n",
        "axs.set_ylabel('Dimension Restrictions [-]', fontsize=7)\n",
        "axs.tick_params(axis='y', labelsize=7)\n",
        "axs.tick_params(axis='x', labelsize=7, rotation=90)\n",
        "\n",
        "# annotate min max\n",
        "axs.annotate('261', (0, data[0,0]),(0.15, data[0,0]), fontsize=6)\n",
        "axs.annotate('631', (0, data[0,1]),(0.15, data[0,1]), fontsize=6)\n",
        "\n",
        "axs.annotate('899', (1, data[1,0]),(1.15, data[1,0]), fontsize=6)\n",
        "axs.annotate('2136',(1, data[1,1]),(1.15, data[1,1]), fontsize=6)\n",
        "\n",
        "axs.annotate('68.6', (2, data[0,0]),(2.15, data[2,0]), fontsize=6)\n",
        "axs.annotate('93.7', (2, data[0,1]),(2.15, data[2,1]-0.02), fontsize=6)\n",
        "\n",
        "axs.annotate('16.5', (3, data[3,0]),(2.55, data[3,0]+0.03), fontsize=6)\n",
        "axs.annotate('72.2', (3, data[3,1]),(2.45, data[3,1]-0.01), fontsize=6)\n",
        "\n",
        "\n",
        "#plt.title('COVID Increase vs. Decrease', fontsize=24)\n",
        "plt.savefig('/content/drive/MyDrive/Stanford-TUBerlin/CodePaper/Plots/Figures/PRIM_4', format='jpg', dpi=600, bbox_inches='tight')\n",
        "plt.show()"
      ],
      "metadata": {
        "colab": {
          "base_uri": "https://localhost:8080/",
          "height": 247
        },
        "id": "Kv-QT3ATU9uE",
        "outputId": "0179683f-54b5-4a48-8906-0c669efe2fae"
      },
      "execution_count": null,
      "outputs": [
        {
          "output_type": "display_data",
          "data": {
            "text/plain": [
              "<Figure size 144x144 with 1 Axes>"
            ],
            "image/png": "[encoded data removed]"
          },
          "metadata": {
            "needs_background": "light"
          }
        }
      ]
    },
    {
      "cell_type": "code",
      "source": [
        "# COVID change vs no change\n",
        "\n",
        "#    Stats\n",
        "#        Coverage: 0.684422\n",
        "#        Density:  0.390805\n",
        "#        Mass:     0.637470\n",
        "#        Res Dim:  4.000000\n",
        "#        Mean:     0.390805\n",
        "#    Limits\n",
        "#                                  min       max  qp values\n",
        "\n",
        "\n",
        "data = np.array([[0.050773,  1.000000,   0.209380],\n",
        "                 [0.000000,  0.854362,   0.293037],\n",
        "                 [0.000000,  0.751942,   0.388129],\n",
        "                 [0.000000,  0.881967,   0.456487]])\n",
        "\n",
        "\n",
        "x = ['Number of Households in BG'  ,\n",
        "     '3-person Households %'  ,\n",
        "     'Median Income $'  ,\n",
        "     'Median House Value $'] "
      ],
      "metadata": {
        "id": "tUkAWMnxrqvO"
      },
      "execution_count": null,
      "outputs": []
    },
    {
      "cell_type": "code",
      "source": [
        "print(denorm(0., 'Median Housevalue $'), denorm(0.881967, 'Median Housevalue $'))"
      ],
      "metadata": {
        "colab": {
          "base_uri": "https://localhost:8080/"
        },
        "id": "vxstqrbwm4ZU",
        "outputId": "b16b01d1-d52f-4761-cb4d-f8c7634e2794"
      },
      "execution_count": null,
      "outputs": [
        {
          "output_type": "stream",
          "name": "stdout",
          "text": [
            "78100.0 1186467.9289\n"
          ]
        }
      ]
    },
    {
      "cell_type": "code",
      "source": [
        "fig, axs = plt.subplots(nrows=1, ncols=1, figsize=(2, 2))\n",
        "\n",
        "axs.scatter(x , data[:,1], color = colormap[-1], s=50)\n",
        "axs.scatter(x, data[:,0], color = colormap[0], s=50)\n",
        "\n",
        "for i, j in enumerate(x):\n",
        "  axs.vlines(i, data[i,0], data[i,1], color = colormap[1], zorder=0, linewidth=5)\n",
        "\n",
        "\n",
        "axs.set_ylim(-0.05,1.05)\n",
        "# lables \n",
        "axs.set_ylabel('Dimension Restrictions [-]', fontsize=7)\n",
        "axs.tick_params(axis='y', labelsize=7)\n",
        "axs.tick_params(axis='x', labelsize=7, rotation=90)\n",
        "\n",
        "# annotate min max\n",
        "axs.annotate('330', (0, data[0,0]),(0.15, data[0,0]), fontsize=6)\n",
        "axs.annotate('1620', (0, data[0,1]),(0.15, data[0,1]-0.01), fontsize=6)\n",
        "\n",
        "axs.annotate('5.7', (1, data[1,0]),(1.15, data[1,0]), fontsize=6)\n",
        "axs.annotate('19.2',(1, data[1,1]),(1.15, data[1,1]), fontsize=6)\n",
        "\n",
        "axs.annotate('33k', (2, data[0,0]),(2.15, data[2,0]), fontsize=6)\n",
        "axs.annotate('130k', (2, data[0,1]),(2.15, data[2,1]), fontsize=6)\n",
        "\n",
        "axs.annotate('78k', (3, data[3,0]),(2.55, data[3,0]), fontsize=6)\n",
        "axs.annotate('119k', (3, data[3,1]),(2.45, data[3,1]), fontsize=6)\n",
        "\n",
        "\n",
        "#plt.title('COVID Change vs. No Change', fontsize=24)\n",
        "plt.savefig('/content/drive/MyDrive/Stanford-TUBerlin/CodePaper/Plots/Figures/PRIM_5', format='jpg', dpi=600, bbox_inches='tight')\n",
        "plt.show()"
      ],
      "metadata": {
        "colab": {
          "base_uri": "https://localhost:8080/",
          "height": 247
        },
        "id": "Ev-XUzmVWvNS",
        "outputId": "1dbfe8b3-2397-4fb7-c3b3-5dd542a9f5bf"
      },
      "execution_count": null,
      "outputs": [
        {
          "output_type": "display_data",
          "data": {
            "text/plain": [
              "<Figure size 144x144 with 1 Axes>"
            ],
            "image/png": "[encoded data removed]"
          },
          "metadata": {
            "needs_background": "light"
          }
        }
      ]
    },
    {
      "cell_type": "markdown",
      "source": [
        "# Geo plot"
      ],
      "metadata": {
        "id": "57C1qRwDM7Ae"
      }
    },
    {
      "cell_type": "code",
      "source": [
        "import matplotlib.colors as colors"
      ],
      "metadata": {
        "id": "CjHoblYeUNky"
      },
      "execution_count": null,
      "outputs": []
    },
    {
      "cell_type": "code",
      "source": [
        "cmap = 'seismic'\n",
        "#matplotlib.colors.LinearSegmentedColormap.from_list(\"\", [\"#dad7cd\",\"#a3b18a\",\"#3a5a40\",\"#344e41\"]) #\"#588157\",\n",
        "norm = colors.TwoSlopeNorm(vmin=-200, vcenter=0, vmax=300)"
      ],
      "metadata": {
        "id": "ejEeABAupyCS"
      },
      "execution_count": null,
      "outputs": []
    },
    {
      "cell_type": "code",
      "source": [
        "# load maps \n",
        "\n",
        "all_CM = gpd.read_file('/content/drive/MyDrive/Stanford-TUBerlin/Code Marie/ClusterChange_multiBaseline/GIS plots/CostaMesa/CostaMesa.shp')\n",
        "\n",
        "customer_CM = gpd.read_file('/content/drive/MyDrive/Stanford-TUBerlin/Code Marie/ClusterChange_multiBaseline/GIS plots/CostaMesa_customerAreas/CostaMesa_customerAreas.shp')"
      ],
      "metadata": {
        "id": "pqAKVERYNJmW"
      },
      "execution_count": null,
      "outputs": []
    },
    {
      "cell_type": "code",
      "source": [
        "geo_df = pd.read_pickle('/content/drive/MyDrive/Stanford-TUBerlin/CodePaper/Mapping/FeatureMatrix_GIS')"
      ],
      "metadata": {
        "id": "tg-j6AETWx21"
      },
      "execution_count": null,
      "outputs": []
    },
    {
      "cell_type": "code",
      "source": [
        "#consump_df = pd.concat([consumption_SB, consumption_SD, consumption_MB, consumption_MD])\n",
        "consump_df = consumption_SB\n",
        "geo_df = geo_df[geo_df.group == 'SB']"
      ],
      "metadata": {
        "id": "W7wpNR5uggSI"
      },
      "execution_count": null,
      "outputs": []
    },
    {
      "cell_type": "code",
      "source": [
        "base = pd.date_range(start='1/1/2002',  end='11/1/2007', freq='2MS')\n",
        "recession = pd.date_range(start='1/1/2008',  end='7/1/2010', freq='2MS')\n",
        "drought = pd.date_range(start='1/1/2014',  end='11/1/2016', freq='2MS')\n",
        "covid = pd.date_range(start='5/1/2020',  end='7/1/2020', freq='2MS')\n",
        "\n",
        "stressor_consump = pd.DataFrame(index = customer_CM.index, columns= ['GEOID', 'recession', 'drought', 'covid'])\n",
        "groups= geo_df.groupby('GEOID')\n",
        "\n",
        "for i, (name, group) in enumerate(groups):\n",
        "  all_consump = consump_df.loc[group.W_LocationID]\n",
        "  base_consump = all_consump[base].mean().mean()\n",
        "  rec_consump = all_consump[recession].mean().mean()\n",
        "  rec_change = rec_consump - base_consump\n",
        "  drought_consump = all_consump[drought].mean().mean()\n",
        "  drought_change = drought_consump - rec_consump\n",
        "  cov_consump = all_consump[covid].mean().mean()\n",
        "  cov_change = cov_consump - drought_consump\n",
        "\n",
        "  stressor_consump.loc[i] = name, rec_change, drought_change, cov_change\n"
      ],
      "metadata": {
        "id": "3FuXJ8OYgAoO"
      },
      "execution_count": null,
      "outputs": []
    },
    {
      "cell_type": "code",
      "source": [
        "stressor_consump.min()"
      ],
      "metadata": {
        "colab": {
          "base_uri": "https://localhost:8080/"
        },
        "id": "O6Np8Rg8R14v",
        "outputId": "2bf53879-0cff-4309-ea23-f2a9d2c9ae5c"
      },
      "execution_count": null,
      "outputs": [
        {
          "output_type": "stream",
          "name": "stderr",
          "text": [
            "/usr/local/lib/python3.7/dist-packages/ipykernel_launcher.py:1: FutureWarning: Dropping of nuisance columns in DataFrame reductions (with 'numeric_only=None') is deprecated; in a future version this will raise TypeError.  Select only valid columns before calling the reduction.\n",
            "  \"\"\"Entry point for launching an IPython kernel.\n"
          ]
        },
        {
          "output_type": "execute_result",
          "data": {
            "text/plain": [
              "recession    -84.159705\n",
              "drought     -134.122872\n",
              "covid        -40.605832\n",
              "dtype: float64"
            ]
          },
          "metadata": {},
          "execution_count": 35
        }
      ]
    },
    {
      "cell_type": "code",
      "source": [
        "# convert all features to numeric\n",
        "cols = stressor_consump.columns.drop('GEOID')\n",
        "stressor_consump[cols] = stressor_consump[cols].apply(pd.to_numeric, errors='coerce')\n",
        "\n",
        "#merge with geo file\n",
        "CostaMesa_stressor_consump = all_CM.merge(stressor_consump , on='GEOID' )"
      ],
      "metadata": {
        "id": "KhYHVnDOj2G3"
      },
      "execution_count": null,
      "outputs": []
    },
    {
      "cell_type": "code",
      "source": [
        "## Plot \n",
        "\n",
        "fig, axs = plt.subplots(1, 3, figsize=(7,4))\n",
        "\n",
        "\n",
        "base = all_CM.plot(color='white' ,ax=axs[0], edgecolor='black', linewidth = 0.5)\n",
        "CostaMesa_stressor_consump.plot(column ='recession', cmap=cmap , ax=axs[0], edgecolor='black', linewidth =0.5, vmin=-200, vmax=300, norm=norm)\n",
        "axs[0].axis('off')\n",
        "axs[0].set_title('Recession', size=10)\n",
        "\n",
        "base = all_CM.plot(color='white' ,ax=axs[1], edgecolor='black', linewidth = 0.5)\n",
        "CostaMesa_stressor_consump.plot(column ='drought', cmap=cmap , ax=axs[1], edgecolor='black', linewidth = 0.5, vmin=-200, vmax=300, norm=norm)\n",
        "axs[1].axis('off')\n",
        "axs[1].set_title('Drought', size=10)\n",
        "\n",
        "divider = make_axes_locatable(axs[2])\n",
        "cax = divider.append_axes(\"right\", size=\"5%\", pad=0.1)\n",
        "base = all_CM.plot(color='white' ,ax=axs[2], edgecolor='black', linewidth = 0.5)\n",
        "CostaMesa_stressor_consump.plot(column ='covid', cmap=cmap , ax=axs[2], legend = True, cax=cax, edgecolor='black', linewidth = 0.5, vmin=-200, vmax=300, norm=norm)\n",
        "axs[2].axis('off')\n",
        "axs[2].set_title('COVID', size=10)\n",
        "\n",
        "# cbar labelsize\n",
        "cb_ax = fig.axes[3] \n",
        "cb_ax.tick_params(labelsize=7)\n",
        "cb_ax.set_title('Avg. consumption \\nchange compared to \\nthe previous stressor \\n[gals/day/captia]', size=7, pad=15, loc='left')\n",
        "\n",
        "plt.tight_layout()\n",
        "plt.savefig('/content/drive/MyDrive/Stanford-TUBerlin/CodePaper/Plots/Figures/consumption_spatial', format='jpg', dpi=600, bbox_inches='tight')"
      ],
      "metadata": {
        "id": "Hl0xkdXsnUS6",
        "colab": {
          "base_uri": "https://localhost:8080/",
          "height": 154
        },
        "outputId": "c56e8171-6ca3-4404-d837-a062b1f00ed3"
      },
      "execution_count": null,
      "outputs": [
        {
          "output_type": "display_data",
          "data": {
            "text/plain": [
              "<Figure size 504x288 with 4 Axes>"
            ],
            "image/png": "[encoded data removed]"
          },
          "metadata": {
            "needs_background": "light"
          }
        }
      ]
    }
  ]
}